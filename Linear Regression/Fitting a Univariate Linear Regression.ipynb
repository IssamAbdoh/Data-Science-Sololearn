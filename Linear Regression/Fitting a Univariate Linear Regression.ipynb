{
 "cells": [
  {
   "cell_type": "code",
   "execution_count": 6,
   "metadata": {},
   "outputs": [
    {
     "name": "stdout",
     "output_type": "stream",
     "text": [
      "LinearRegression()\n"
     ]
    }
   ],
   "source": [
    "\"\"\"\n",
    "In scikit-learn, every class of model is represented by a class in python. \n",
    "A class of model is not the same as an instance of a model. \n",
    "Recall that instance is an individual object of a certain class. \n",
    "\n",
    "Thus, we first import the linear regression class, then instantiate the model, \n",
    "that is to create an instance of the class LinearRegression:\n",
    "\"\"\"\n",
    "\n",
    "from sklearn.linear_model import LinearRegression\n",
    "\n",
    "model = LinearRegression()\n",
    "print(model)"
   ]
  },
  {
   "cell_type": "code",
   "execution_count": 7,
   "metadata": {},
   "outputs": [
    {
     "name": "stdout",
     "output_type": "stream",
     "text": [
      "(20640, 1)\n",
      "(20640,)\n"
     ]
    }
   ],
   "source": [
    "from sklearn.model_selection import train_test_split\n",
    "import pandas as pd\n",
    "from sklearn.datasets import load_boston\n",
    "from sklearn.datasets import fetch_california_housing\n",
    "import numpy as np\n",
    "import matplotlib.pyplot as plt\n",
    "\n",
    "california_housing_dataset = fetch_california_housing()\n",
    "\n",
    "## build a DataFrame\n",
    "california_housing = pd.DataFrame(california_housing_dataset.data, columns=california_housing_dataset.feature_names)\n",
    "\n",
    "#We then add the target into the DataFrame\n",
    "california_housing['MEDV'] = california_housing_dataset.target\n",
    "\n",
    "X = california_housing[['MedInc']]\n",
    "print(X.shape)\n",
    "\n",
    "y = california_housing['MEDV']\n",
    "print(y.shape)\n",
    "\n"
   ]
  },
  {
   "cell_type": "code",
   "execution_count": 8,
   "metadata": {},
   "outputs": [
    {
     "name": "stdout",
     "output_type": "stream",
     "text": [
      "(14448, 1)\n",
      "(14448,)\n",
      "(6192, 1)\n",
      "(6192,)\n"
     ]
    }
   ],
   "source": [
    "from sklearn.model_selection import train_test_split\n",
    "X_train, X_test, Y_train, Y_test = train_test_split(X, y, test_size = 0.3, random_state=1)\n",
    "\n",
    "print(X_train.shape)\n",
    "print(Y_train.shape)\n",
    "print(X_test.shape)\n",
    "print(Y_test.shape)\n",
    "\n",
    "X_train, X_test, Y_train, Y_test = train_test_split(X, y, \n",
    "  test_size = 0.3, \n",
    "  random_state=101)\n"
   ]
  },
  {
   "cell_type": "code",
   "execution_count": 9,
   "metadata": {},
   "outputs": [
    {
     "data": {
      "text/plain": [
       "LinearRegression()"
      ]
     },
     "execution_count": 9,
     "metadata": {},
     "output_type": "execute_result"
    }
   ],
   "source": [
    "\"\"\"\n",
    "In short, fitting is equal to training. \n",
    "It fits the model to the training data and finds the coefficients specified in the linear regression model, i.e., \n",
    "intercept and slope. After it is trained, the model can be used to make predictions.\n",
    "\"\"\"\n",
    "\n",
    "model.fit(X_train, Y_train)\n",
    "\n",
    "#The fit() command triggers the computations and the results are stored in the model object.\n",
    "\n",
    "#Fitting is how well the machine learning model measures against the data upon which it was trained."
   ]
  },
  {
   "cell_type": "code",
   "execution_count": 12,
   "metadata": {},
   "outputs": [
    {
     "name": "stdout",
     "output_type": "stream",
     "text": [
      "0.44 [0.42]\n"
     ]
    }
   ],
   "source": [
    "\"\"\"\n",
    "The linear regression model has been fitted, \n",
    "what it means is that both parameters, the intercept and the slope, have been learned. \n",
    "\n",
    "What are they? In Scikit-learn, by convention all model parameters have trailing underscores, \n",
    "for example to access the estimated intercept from the model, rounded to the 2nd decimal place for better display:\n",
    "\"\"\"\n",
    "\n",
    "print(model.intercept_.round(2),\n",
    "model.coef_.round(2))"
   ]
  },
  {
   "cell_type": "code",
   "execution_count": 14,
   "metadata": {},
   "outputs": [
    {
     "name": "stdout",
     "output_type": "stream",
     "text": [
      "[2.53984577]\n",
      "[2.53984577]\n"
     ]
    },
    {
     "name": "stderr",
     "output_type": "stream",
     "text": [
      "c:\\Users\\essam\\AppData\\Local\\Programs\\Python\\Python310\\lib\\site-packages\\sklearn\\base.py:450: UserWarning: X does not have valid feature names, but LinearRegression was fitted with feature names\n",
      "  warnings.warn(\n"
     ]
    }
   ],
   "source": [
    "#The two parameters represent the intercept and slope of the line fit to the data. \n",
    "#Our fitted model is MEDV = 0.44  + 0.42 * MedInc.\n",
    "\n",
    "#Note that the input has to be 2-dimensional, either a 2darray or DataFrame will work in this case.\n",
    "\n",
    "#This value is the same as we plug in the line b + m*x where b is the estimated intercept from the model, and m is the estimated slope.\n",
    "\n",
    "new_MedInc = np.array([5]).reshape(-1,1) # make sure it's 2d\n",
    "\n",
    "print(model.predict(new_MedInc))\n",
    "\n",
    "print(model.intercept_ + model.coef_*5)"
   ]
  },
  {
   "cell_type": "code",
   "execution_count": 16,
   "metadata": {},
   "outputs": [
    {
     "name": "stdout",
     "output_type": "stream",
     "text": [
      "(6192,)\n",
      "(6192,)\n",
      "<class 'numpy.ndarray'>\n"
     ]
    }
   ],
   "source": [
    "y_test_predicted = model.predict(X_test)\n",
    "print(y_test_predicted.shape)\n",
    "print(Y_test.shape)\n",
    "print(type(y_test_predicted))\n",
    "\n",
    "#The predict() method estimates the median home value by computing model.intercept_ + model.coef_* MedInc.\n"
   ]
  },
  {
   "cell_type": "code",
   "execution_count": null,
   "metadata": {},
   "outputs": [],
   "source": []
  }
 ],
 "metadata": {
  "kernelspec": {
   "display_name": "Python 3.10.0 64-bit",
   "language": "python",
   "name": "python3"
  },
  "language_info": {
   "codemirror_mode": {
    "name": "ipython",
    "version": 3
   },
   "file_extension": ".py",
   "mimetype": "text/x-python",
   "name": "python",
   "nbconvert_exporter": "python",
   "pygments_lexer": "ipython3",
   "version": "3.10.0"
  },
  "orig_nbformat": 4,
  "vscode": {
   "interpreter": {
    "hash": "087359339cf6a1bed038e871895ef85e85f96692ba6d6f882476a5ebb0593988"
   }
  }
 },
 "nbformat": 4,
 "nbformat_minor": 2
}
