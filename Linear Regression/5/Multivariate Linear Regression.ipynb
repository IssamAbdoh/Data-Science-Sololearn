{
 "cells": [
  {
   "cell_type": "code",
   "execution_count": 17,
   "metadata": {},
   "outputs": [],
   "source": [
    "\"\"\"\n",
    "\n",
    "Recall AveBedrms is most negatively correlated to the home price. \n",
    "We can add the feature and build a multivariate linear regression model where the home price depends on both MedInc and AveBedrms linearly:\n",
    "\n",
    "MEDV = b0 + b1 * MedInc + b2 * AveBedrms\n",
    "To find intercept b0, and coefficients b1 and b2, all steps are the same except for the data preparation part, \n",
    "we are now dealing with two features:\n",
    "\"\"\"\n",
    "\n",
    "import numpy as np\n",
    "import matplotlib.pyplot as plt\n",
    "import pandas as pd\n",
    "from sklearn.datasets import load_boston\n",
    "from sklearn.linear_model import LinearRegression\n",
    "from sklearn.model_selection import train_test_split\n",
    "from sklearn.datasets import fetch_california_housing\n",
    "from sklearn.metrics import mean_squared_error\n",
    "\n",
    "\n"
   ]
  },
  {
   "cell_type": "code",
   "execution_count": 18,
   "metadata": {},
   "outputs": [],
   "source": [
    "model = LinearRegression()\n",
    "california_housing_dataset = fetch_california_housing()\n",
    "\n",
    "## build a DataFrame\n",
    "california_housing = pd.DataFrame(california_housing_dataset.data, columns=california_housing_dataset.feature_names)\n",
    "\n",
    "#We then add the target into the DataFrame\n",
    "california_housing['MEDV'] = california_housing_dataset.target\n",
    "\n",
    "X = california_housing[['MedInc']]\n",
    "\n",
    "Y = california_housing['MEDV']\n",
    "\n",
    "X_train, X_test, Y_train, Y_test = train_test_split(X, Y, test_size = 0.3, random_state=101)\n",
    "\n",
    "model.fit(X_train, Y_train)\n",
    "\n",
    "y_test_predicted = model.predict(X_test)\n"
   ]
  },
  {
   "cell_type": "code",
   "execution_count": 19,
   "metadata": {},
   "outputs": [
    {
     "name": "stdout",
     "output_type": "stream",
     "text": [
      "LinearRegression()\n"
     ]
    }
   ],
   "source": [
    "## data preparation\n",
    "X2 = california_housing[['MedInc', 'AveBedrms']]\n",
    "Y = california_housing['MEDV']\n",
    "## train test split\n",
    "## same random_state to ensure the same splits\n",
    "X2_train, X2_test, Y_train, Y_test = train_test_split(X2, Y, \n",
    "                                                    test_size = 0.3, \n",
    "                                                    random_state=101)\n",
    "model2 = LinearRegression()\n",
    "print(model2.fit(X2_train, Y_train))"
   ]
  },
  {
   "cell_type": "code",
   "execution_count": 20,
   "metadata": {},
   "outputs": [
    {
     "name": "stdout",
     "output_type": "stream",
     "text": [
      "0.475\n",
      "[ 0.42  -0.033]\n"
     ]
    }
   ],
   "source": [
    "print(model2.intercept_.round(3))\n",
    "print(model2.coef_.round(3))\n",
    "\n",
    "#Note the coefficients are stored in a 1darray of shape (2,). The second model then is\n",
    "\n",
    "#MEDV = 0.441 + 0.423 * MedInc + (-0.001) * AveBedrms.\n"
   ]
  },
  {
   "cell_type": "code",
   "execution_count": 21,
   "metadata": {},
   "outputs": [
    {
     "name": "stdout",
     "output_type": "stream",
     "text": [
      "[2.80380927 5.34550567 1.46535295 ... 1.62220717 1.00133736 1.81346447]\n"
     ]
    }
   ],
   "source": [
    "y_test_predicted2 = model2.predict(X2_test)\n",
    "print(y_test_predicted2)"
   ]
  },
  {
   "cell_type": "code",
   "execution_count": 22,
   "metadata": {},
   "outputs": [
    {
     "name": "stdout",
     "output_type": "stream",
     "text": [
      "0.468 0.467\n"
     ]
    },
    {
     "data": {
      "text/plain": [
       "'\\nThe extension from univariate to multivariate linear regression is straightforward in scikit-learn. \\n\\nThe model instantiation, fitting, and predictions are identical, the only difference being the data preparation.\\n'"
      ]
     },
     "execution_count": 22,
     "metadata": {},
     "output_type": "execute_result"
    }
   ],
   "source": [
    "print(\n",
    "model.score(X_test,Y_test).round(3),#univariate \n",
    "model2.score(X2_test,Y_test).round(3)#multivariate \n",
    ")\n",
    "\n",
    "\n",
    "\"\"\"\n",
    "The extension from univariate to multivariate linear regression is straightforward in scikit-learn. \n",
    "\n",
    "The model instantiation, fitting, and predictions are identical, the only difference being the data preparation.\n",
    "\"\"\""
   ]
  },
  {
   "cell_type": "code",
   "execution_count": 24,
   "metadata": {},
   "outputs": [
    {
     "name": "stdout",
     "output_type": "stream",
     "text": [
      "0.72\n",
      "0.721\n"
     ]
    }
   ],
   "source": [
    "\"\"\"\n",
    "Which model is better? \n",
    "An easy metric for linear regression is the mean squared error (MSE) on the testing data. \n",
    "Better models have lower MSEs.\n",
    "\"\"\"\n",
    "\n",
    "print(mean_squared_error(Y_test, y_test_predicted).round(3))\n",
    "print(mean_squared_error(Y_test, y_test_predicted2).round(3))"
   ]
  },
  {
   "cell_type": "code",
   "execution_count": null,
   "metadata": {},
   "outputs": [],
   "source": [
    "\"\"\"\n",
    "The fisrt model has a lower MSE, \n",
    "thus it does a better job predicting the median home values than the univariate model\n",
    "\n",
    "In general, the more features the model includes the lower the MSE would be.\n",
    "\n",
    "Yet be careful about including too many features. Some features could be random noise, \n",
    "thus hurt the interpretability of the model.\n",
    "\"\"\""
   ]
  }
 ],
 "metadata": {
  "kernelspec": {
   "display_name": "Python 3.10.0 64-bit",
   "language": "python",
   "name": "python3"
  },
  "language_info": {
   "codemirror_mode": {
    "name": "ipython",
    "version": 3
   },
   "file_extension": ".py",
   "mimetype": "text/x-python",
   "name": "python",
   "nbconvert_exporter": "python",
   "pygments_lexer": "ipython3",
   "version": "3.10.0"
  },
  "orig_nbformat": 4,
  "vscode": {
   "interpreter": {
    "hash": "087359339cf6a1bed038e871895ef85e85f96692ba6d6f882476a5ebb0593988"
   }
  }
 },
 "nbformat": 4,
 "nbformat_minor": 2
}
