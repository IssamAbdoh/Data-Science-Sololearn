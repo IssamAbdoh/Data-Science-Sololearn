{
 "cells": [
  {
   "cell_type": "code",
   "execution_count": 210,
   "metadata": {},
   "outputs": [],
   "source": [
    "import numpy as np\n",
    "import matplotlib.pyplot as plt\n",
    "import pandas as pd\n",
    "from sklearn.datasets import load_boston\n",
    "from sklearn.linear_model import LinearRegression\n",
    "from sklearn.model_selection import train_test_split\n",
    "from sklearn.datasets import fetch_california_housing"
   ]
  },
  {
   "cell_type": "code",
   "execution_count": 211,
   "metadata": {},
   "outputs": [
    {
     "name": "stderr",
     "output_type": "stream",
     "text": [
      "c:\\Users\\essam\\AppData\\Local\\Programs\\Python\\Python310\\lib\\site-packages\\sklearn\\utils\\deprecation.py:87: FutureWarning: Function load_boston is deprecated; `load_boston` is deprecated in 1.0 and will be removed in 1.2.\n",
      "\n",
      "    The Boston housing prices dataset has an ethical problem. You can refer to\n",
      "    the documentation of this function for further details.\n",
      "\n",
      "    The scikit-learn maintainers therefore strongly discourage the use of this\n",
      "    dataset unless the purpose of the code is to study and educate about\n",
      "    ethical issues in data science and machine learning.\n",
      "\n",
      "    In this special case, you can fetch the dataset from the original\n",
      "    source::\n",
      "\n",
      "        import pandas as pd\n",
      "        import numpy as np\n",
      "\n",
      "\n",
      "        data_url = \"http://lib.stat.cmu.edu/datasets/boston\"\n",
      "        raw_df = pd.read_csv(data_url, sep=\"\\s+\", skiprows=22, header=None)\n",
      "        data = np.hstack([raw_df.values[::2, :], raw_df.values[1::2, :2]])\n",
      "        target = raw_df.values[1::2, 2]\n",
      "\n",
      "    Alternative datasets include the California housing dataset (i.e.\n",
      "    :func:`~sklearn.datasets.fetch_california_housing`) and the Ames housing\n",
      "    dataset. You can load the datasets as follows::\n",
      "\n",
      "        from sklearn.datasets import fetch_california_housing\n",
      "        housing = fetch_california_housing()\n",
      "\n",
      "    for the California housing dataset and::\n",
      "\n",
      "        from sklearn.datasets import fetch_openml\n",
      "        housing = fetch_openml(name=\"house_prices\", as_frame=True)\n",
      "\n",
      "    for the Ames housing dataset.\n",
      "    \n",
      "  warnings.warn(msg, category=FutureWarning)\n"
     ]
    }
   ],
   "source": [
    "boston_dataset = load_boston()"
   ]
  },
  {
   "cell_type": "code",
   "execution_count": 212,
   "metadata": {},
   "outputs": [
    {
     "data": {
      "text/html": [
       "<div>\n",
       "<style scoped>\n",
       "    .dataframe tbody tr th:only-of-type {\n",
       "        vertical-align: middle;\n",
       "    }\n",
       "\n",
       "    .dataframe tbody tr th {\n",
       "        vertical-align: top;\n",
       "    }\n",
       "\n",
       "    .dataframe thead th {\n",
       "        text-align: right;\n",
       "    }\n",
       "</style>\n",
       "<table border=\"1\" class=\"dataframe\">\n",
       "  <thead>\n",
       "    <tr style=\"text-align: right;\">\n",
       "      <th></th>\n",
       "      <th>CRIM</th>\n",
       "      <th>ZN</th>\n",
       "      <th>INDUS</th>\n",
       "      <th>CHAS</th>\n",
       "      <th>NOX</th>\n",
       "      <th>RM</th>\n",
       "      <th>AGE</th>\n",
       "      <th>DIS</th>\n",
       "      <th>RAD</th>\n",
       "      <th>TAX</th>\n",
       "      <th>PTRATIO</th>\n",
       "      <th>B</th>\n",
       "      <th>LSTAT</th>\n",
       "      <th>MEDV</th>\n",
       "    </tr>\n",
       "  </thead>\n",
       "  <tbody>\n",
       "    <tr>\n",
       "      <th>count</th>\n",
       "      <td>506.00</td>\n",
       "      <td>506.00</td>\n",
       "      <td>506.00</td>\n",
       "      <td>506.00</td>\n",
       "      <td>506.00</td>\n",
       "      <td>506.00</td>\n",
       "      <td>506.00</td>\n",
       "      <td>506.00</td>\n",
       "      <td>506.00</td>\n",
       "      <td>506.00</td>\n",
       "      <td>506.00</td>\n",
       "      <td>506.00</td>\n",
       "      <td>506.00</td>\n",
       "      <td>506.00</td>\n",
       "    </tr>\n",
       "    <tr>\n",
       "      <th>mean</th>\n",
       "      <td>3.61</td>\n",
       "      <td>11.36</td>\n",
       "      <td>11.14</td>\n",
       "      <td>0.07</td>\n",
       "      <td>0.55</td>\n",
       "      <td>6.28</td>\n",
       "      <td>68.57</td>\n",
       "      <td>3.80</td>\n",
       "      <td>9.55</td>\n",
       "      <td>408.24</td>\n",
       "      <td>18.46</td>\n",
       "      <td>356.67</td>\n",
       "      <td>12.65</td>\n",
       "      <td>22.53</td>\n",
       "    </tr>\n",
       "    <tr>\n",
       "      <th>std</th>\n",
       "      <td>8.60</td>\n",
       "      <td>23.32</td>\n",
       "      <td>6.86</td>\n",
       "      <td>0.25</td>\n",
       "      <td>0.12</td>\n",
       "      <td>0.70</td>\n",
       "      <td>28.15</td>\n",
       "      <td>2.11</td>\n",
       "      <td>8.71</td>\n",
       "      <td>168.54</td>\n",
       "      <td>2.16</td>\n",
       "      <td>91.29</td>\n",
       "      <td>7.14</td>\n",
       "      <td>9.20</td>\n",
       "    </tr>\n",
       "    <tr>\n",
       "      <th>min</th>\n",
       "      <td>0.01</td>\n",
       "      <td>0.00</td>\n",
       "      <td>0.46</td>\n",
       "      <td>0.00</td>\n",
       "      <td>0.38</td>\n",
       "      <td>3.56</td>\n",
       "      <td>2.90</td>\n",
       "      <td>1.13</td>\n",
       "      <td>1.00</td>\n",
       "      <td>187.00</td>\n",
       "      <td>12.60</td>\n",
       "      <td>0.32</td>\n",
       "      <td>1.73</td>\n",
       "      <td>5.00</td>\n",
       "    </tr>\n",
       "    <tr>\n",
       "      <th>25%</th>\n",
       "      <td>0.08</td>\n",
       "      <td>0.00</td>\n",
       "      <td>5.19</td>\n",
       "      <td>0.00</td>\n",
       "      <td>0.45</td>\n",
       "      <td>5.89</td>\n",
       "      <td>45.02</td>\n",
       "      <td>2.10</td>\n",
       "      <td>4.00</td>\n",
       "      <td>279.00</td>\n",
       "      <td>17.40</td>\n",
       "      <td>375.38</td>\n",
       "      <td>6.95</td>\n",
       "      <td>17.02</td>\n",
       "    </tr>\n",
       "    <tr>\n",
       "      <th>50%</th>\n",
       "      <td>0.26</td>\n",
       "      <td>0.00</td>\n",
       "      <td>9.69</td>\n",
       "      <td>0.00</td>\n",
       "      <td>0.54</td>\n",
       "      <td>6.21</td>\n",
       "      <td>77.50</td>\n",
       "      <td>3.21</td>\n",
       "      <td>5.00</td>\n",
       "      <td>330.00</td>\n",
       "      <td>19.05</td>\n",
       "      <td>391.44</td>\n",
       "      <td>11.36</td>\n",
       "      <td>21.20</td>\n",
       "    </tr>\n",
       "    <tr>\n",
       "      <th>75%</th>\n",
       "      <td>3.68</td>\n",
       "      <td>12.50</td>\n",
       "      <td>18.10</td>\n",
       "      <td>0.00</td>\n",
       "      <td>0.62</td>\n",
       "      <td>6.62</td>\n",
       "      <td>94.07</td>\n",
       "      <td>5.19</td>\n",
       "      <td>24.00</td>\n",
       "      <td>666.00</td>\n",
       "      <td>20.20</td>\n",
       "      <td>396.22</td>\n",
       "      <td>16.96</td>\n",
       "      <td>25.00</td>\n",
       "    </tr>\n",
       "    <tr>\n",
       "      <th>max</th>\n",
       "      <td>88.98</td>\n",
       "      <td>100.00</td>\n",
       "      <td>27.74</td>\n",
       "      <td>1.00</td>\n",
       "      <td>0.87</td>\n",
       "      <td>8.78</td>\n",
       "      <td>100.00</td>\n",
       "      <td>12.13</td>\n",
       "      <td>24.00</td>\n",
       "      <td>711.00</td>\n",
       "      <td>22.00</td>\n",
       "      <td>396.90</td>\n",
       "      <td>37.97</td>\n",
       "      <td>50.00</td>\n",
       "    </tr>\n",
       "  </tbody>\n",
       "</table>\n",
       "</div>"
      ],
      "text/plain": [
       "         CRIM      ZN   INDUS    CHAS     NOX      RM     AGE     DIS     RAD  \\\n",
       "count  506.00  506.00  506.00  506.00  506.00  506.00  506.00  506.00  506.00   \n",
       "mean     3.61   11.36   11.14    0.07    0.55    6.28   68.57    3.80    9.55   \n",
       "std      8.60   23.32    6.86    0.25    0.12    0.70   28.15    2.11    8.71   \n",
       "min      0.01    0.00    0.46    0.00    0.38    3.56    2.90    1.13    1.00   \n",
       "25%      0.08    0.00    5.19    0.00    0.45    5.89   45.02    2.10    4.00   \n",
       "50%      0.26    0.00    9.69    0.00    0.54    6.21   77.50    3.21    5.00   \n",
       "75%      3.68   12.50   18.10    0.00    0.62    6.62   94.07    5.19   24.00   \n",
       "max     88.98  100.00   27.74    1.00    0.87    8.78  100.00   12.13   24.00   \n",
       "\n",
       "          TAX  PTRATIO       B   LSTAT    MEDV  \n",
       "count  506.00   506.00  506.00  506.00  506.00  \n",
       "mean   408.24    18.46  356.67   12.65   22.53  \n",
       "std    168.54     2.16   91.29    7.14    9.20  \n",
       "min    187.00    12.60    0.32    1.73    5.00  \n",
       "25%    279.00    17.40  375.38    6.95   17.02  \n",
       "50%    330.00    19.05  391.44   11.36   21.20  \n",
       "75%    666.00    20.20  396.22   16.96   25.00  \n",
       "max    711.00    22.00  396.90   37.97   50.00  "
      ]
     },
     "execution_count": 212,
     "metadata": {},
     "output_type": "execute_result"
    }
   ],
   "source": [
    "# now let's try to use the boston dataset with the same procedure :\n",
    "data_url = \"http://lib.stat.cmu.edu/datasets/boston\"\n",
    "raw_df = pd.read_csv(data_url, sep=\"\\s+\", skiprows=22, header=None)\n",
    "data = np.hstack([raw_df.values[::2, :], raw_df.values[1::2, :2]])\n",
    "target = raw_df.values[1::2, 2]\n",
    "boston = pd.DataFrame(data,columns=boston_dataset.feature_names)\n",
    "boston['MEDV'] = target\n",
    "boston.describe(include = 'all').round(2)"
   ]
  },
  {
   "cell_type": "code",
   "execution_count": 213,
   "metadata": {},
   "outputs": [
    {
     "data": {
      "image/png": "[encoded data removed]",
      "text/plain": [
       "<Figure size 432x288 with 1 Axes>"
      ]
     },
     "metadata": {
      "needs_background": "light"
     },
     "output_type": "display_data"
    }
   ],
   "source": [
    "model1 = LinearRegression()\n",
    "\n",
    "X = boston[['RM']].values\n",
    "Y = boston['MEDV'].values\n",
    "\n",
    "X_train, X_test, Y_train, Y_test = train_test_split(X, Y, test_size = 0.3, random_state=1)\n",
    "\n",
    "model1.fit(X_train, Y_train)\n",
    "\n",
    "y_test_predicted = model1.predict(X_test)\n",
    "\n",
    "plt.scatter(X_test, Y_test,\n",
    "label='testing data')\n",
    "\n",
    "plt.plot(X_test, y_test_predicted,\n",
    "label='prediction', linewidth=3)\n",
    "\n",
    "plt.xlabel('RM'); plt.ylabel('MEDV')\n",
    "plt.legend(loc='upper left')\n",
    "\n",
    "plt.savefig(\"boston model.png\")\n",
    "plt.show()"
   ]
  },
  {
   "cell_type": "code",
   "execution_count": 214,
   "metadata": {},
   "outputs": [
    {
     "data": {
      "text/html": [
       "<div>\n",
       "<style scoped>\n",
       "    .dataframe tbody tr th:only-of-type {\n",
       "        vertical-align: middle;\n",
       "    }\n",
       "\n",
       "    .dataframe tbody tr th {\n",
       "        vertical-align: top;\n",
       "    }\n",
       "\n",
       "    .dataframe thead th {\n",
       "        text-align: right;\n",
       "    }\n",
       "</style>\n",
       "<table border=\"1\" class=\"dataframe\">\n",
       "  <thead>\n",
       "    <tr style=\"text-align: right;\">\n",
       "      <th></th>\n",
       "      <th>RM</th>\n",
       "    </tr>\n",
       "  </thead>\n",
       "  <tbody>\n",
       "    <tr>\n",
       "      <th>0</th>\n",
       "      <td>6.575</td>\n",
       "    </tr>\n",
       "    <tr>\n",
       "      <th>1</th>\n",
       "      <td>6.421</td>\n",
       "    </tr>\n",
       "    <tr>\n",
       "      <th>2</th>\n",
       "      <td>7.185</td>\n",
       "    </tr>\n",
       "    <tr>\n",
       "      <th>3</th>\n",
       "      <td>6.998</td>\n",
       "    </tr>\n",
       "    <tr>\n",
       "      <th>4</th>\n",
       "      <td>7.147</td>\n",
       "    </tr>\n",
       "    <tr>\n",
       "      <th>...</th>\n",
       "      <td>...</td>\n",
       "    </tr>\n",
       "    <tr>\n",
       "      <th>501</th>\n",
       "      <td>6.593</td>\n",
       "    </tr>\n",
       "    <tr>\n",
       "      <th>502</th>\n",
       "      <td>6.120</td>\n",
       "    </tr>\n",
       "    <tr>\n",
       "      <th>503</th>\n",
       "      <td>6.976</td>\n",
       "    </tr>\n",
       "    <tr>\n",
       "      <th>504</th>\n",
       "      <td>6.794</td>\n",
       "    </tr>\n",
       "    <tr>\n",
       "      <th>505</th>\n",
       "      <td>6.030</td>\n",
       "    </tr>\n",
       "  </tbody>\n",
       "</table>\n",
       "<p>506 rows × 1 columns</p>\n",
       "</div>"
      ],
      "text/plain": [
       "        RM\n",
       "0    6.575\n",
       "1    6.421\n",
       "2    7.185\n",
       "3    6.998\n",
       "4    7.147\n",
       "..     ...\n",
       "501  6.593\n",
       "502  6.120\n",
       "503  6.976\n",
       "504  6.794\n",
       "505  6.030\n",
       "\n",
       "[506 rows x 1 columns]"
      ]
     },
     "execution_count": 214,
     "metadata": {},
     "output_type": "execute_result"
    }
   ],
   "source": [
    "boston[['RM']]"
   ]
  },
  {
   "cell_type": "code",
   "execution_count": 215,
   "metadata": {},
   "outputs": [
    {
     "data": {
      "text/plain": [
       "array([[6.575],\n",
       "       [6.421],\n",
       "       [7.185],\n",
       "       [6.998],\n",
       "       [7.147],\n",
       "       [6.43 ],\n",
       "       [6.012],\n",
       "       [6.172],\n",
       "       [5.631],\n",
       "       [6.004],\n",
       "       [6.377],\n",
       "       [6.009],\n",
       "       [5.889],\n",
       "       [5.949],\n",
       "       [6.096],\n",
       "       [5.834],\n",
       "       [5.935],\n",
       "       [5.99 ],\n",
       "       [5.456],\n",
       "       [5.727],\n",
       "       [5.57 ],\n",
       "       [5.965],\n",
       "       [6.142],\n",
       "       [5.813],\n",
       "       [5.924],\n",
       "       [5.599],\n",
       "       [5.813],\n",
       "       [6.047],\n",
       "       [6.495],\n",
       "       [6.674],\n",
       "       [5.713],\n",
       "       [6.072],\n",
       "       [5.95 ],\n",
       "       [5.701],\n",
       "       [6.096],\n",
       "       [5.933],\n",
       "       [5.841],\n",
       "       [5.85 ],\n",
       "       [5.966],\n",
       "       [6.595],\n",
       "       [7.024],\n",
       "       [6.77 ],\n",
       "       [6.169],\n",
       "       [6.211],\n",
       "       [6.069],\n",
       "       [5.682],\n",
       "       [5.786],\n",
       "       [6.03 ],\n",
       "       [5.399],\n",
       "       [5.602],\n",
       "       [5.963],\n",
       "       [6.115],\n",
       "       [6.511],\n",
       "       [5.998],\n",
       "       [5.888],\n",
       "       [7.249],\n",
       "       [6.383],\n",
       "       [6.816],\n",
       "       [6.145],\n",
       "       [5.927],\n",
       "       [5.741],\n",
       "       [5.966],\n",
       "       [6.456],\n",
       "       [6.762],\n",
       "       [7.104],\n",
       "       [6.29 ],\n",
       "       [5.787],\n",
       "       [5.878],\n",
       "       [5.594],\n",
       "       [5.885],\n",
       "       [6.417],\n",
       "       [5.961],\n",
       "       [6.065],\n",
       "       [6.245],\n",
       "       [6.273],\n",
       "       [6.286],\n",
       "       [6.279],\n",
       "       [6.14 ],\n",
       "       [6.232],\n",
       "       [5.874],\n",
       "       [6.727],\n",
       "       [6.619],\n",
       "       [6.302],\n",
       "       [6.167],\n",
       "       [6.389],\n",
       "       [6.63 ],\n",
       "       [6.015],\n",
       "       [6.121],\n",
       "       [7.007],\n",
       "       [7.079],\n",
       "       [6.417],\n",
       "       [6.405],\n",
       "       [6.442],\n",
       "       [6.211],\n",
       "       [6.249],\n",
       "       [6.625],\n",
       "       [6.163],\n",
       "       [8.069],\n",
       "       [7.82 ],\n",
       "       [7.416],\n",
       "       [6.727],\n",
       "       [6.781],\n",
       "       [6.405],\n",
       "       [6.137],\n",
       "       [6.167],\n",
       "       [5.851],\n",
       "       [5.836],\n",
       "       [6.127],\n",
       "       [6.474],\n",
       "       [6.229],\n",
       "       [6.195],\n",
       "       [6.715],\n",
       "       [5.913],\n",
       "       [6.092],\n",
       "       [6.254],\n",
       "       [5.928],\n",
       "       [6.176],\n",
       "       [6.021],\n",
       "       [5.872],\n",
       "       [5.731],\n",
       "       [5.87 ],\n",
       "       [6.004],\n",
       "       [5.961],\n",
       "       [5.856],\n",
       "       [5.879],\n",
       "       [5.986],\n",
       "       [5.613],\n",
       "       [5.693],\n",
       "       [6.431],\n",
       "       [5.637],\n",
       "       [6.458],\n",
       "       [6.326],\n",
       "       [6.372],\n",
       "       [5.822],\n",
       "       [5.757],\n",
       "       [6.335],\n",
       "       [5.942],\n",
       "       [6.454],\n",
       "       [5.857],\n",
       "       [6.151],\n",
       "       [6.174],\n",
       "       [5.019],\n",
       "       [5.403],\n",
       "       [5.468],\n",
       "       [4.903],\n",
       "       [6.13 ],\n",
       "       [5.628],\n",
       "       [4.926],\n",
       "       [5.186],\n",
       "       [5.597],\n",
       "       [6.122],\n",
       "       [5.404],\n",
       "       [5.012],\n",
       "       [5.709],\n",
       "       [6.129],\n",
       "       [6.152],\n",
       "       [5.272],\n",
       "       [6.943],\n",
       "       [6.066],\n",
       "       [6.51 ],\n",
       "       [6.25 ],\n",
       "       [7.489],\n",
       "       [7.802],\n",
       "       [8.375],\n",
       "       [5.854],\n",
       "       [6.101],\n",
       "       [7.929],\n",
       "       [5.877],\n",
       "       [6.319],\n",
       "       [6.402],\n",
       "       [5.875],\n",
       "       [5.88 ],\n",
       "       [5.572],\n",
       "       [6.416],\n",
       "       [5.859],\n",
       "       [6.546],\n",
       "       [6.02 ],\n",
       "       [6.315],\n",
       "       [6.86 ],\n",
       "       [6.98 ],\n",
       "       [7.765],\n",
       "       [6.144],\n",
       "       [7.155],\n",
       "       [6.563],\n",
       "       [5.604],\n",
       "       [6.153],\n",
       "       [7.831],\n",
       "       [6.782],\n",
       "       [6.556],\n",
       "       [7.185],\n",
       "       [6.951],\n",
       "       [6.739],\n",
       "       [7.178],\n",
       "       [6.8  ],\n",
       "       [6.604],\n",
       "       [7.875],\n",
       "       [7.287],\n",
       "       [7.107],\n",
       "       [7.274],\n",
       "       [6.975],\n",
       "       [7.135],\n",
       "       [6.162],\n",
       "       [7.61 ],\n",
       "       [7.853],\n",
       "       [8.034],\n",
       "       [5.891],\n",
       "       [6.326],\n",
       "       [5.783],\n",
       "       [6.064],\n",
       "       [5.344],\n",
       "       [5.96 ],\n",
       "       [5.404],\n",
       "       [5.807],\n",
       "       [6.375],\n",
       "       [5.412],\n",
       "       [6.182],\n",
       "       [5.888],\n",
       "       [6.642],\n",
       "       [5.951],\n",
       "       [6.373],\n",
       "       [6.951],\n",
       "       [6.164],\n",
       "       [6.879],\n",
       "       [6.618],\n",
       "       [8.266],\n",
       "       [8.725],\n",
       "       [8.04 ],\n",
       "       [7.163],\n",
       "       [7.686],\n",
       "       [6.552],\n",
       "       [5.981],\n",
       "       [7.412],\n",
       "       [8.337],\n",
       "       [8.247],\n",
       "       [6.726],\n",
       "       [6.086],\n",
       "       [6.631],\n",
       "       [7.358],\n",
       "       [6.481],\n",
       "       [6.606],\n",
       "       [6.897],\n",
       "       [6.095],\n",
       "       [6.358],\n",
       "       [6.393],\n",
       "       [5.593],\n",
       "       [5.605],\n",
       "       [6.108],\n",
       "       [6.226],\n",
       "       [6.433],\n",
       "       [6.718],\n",
       "       [6.487],\n",
       "       [6.438],\n",
       "       [6.957],\n",
       "       [8.259],\n",
       "       [6.108],\n",
       "       [5.876],\n",
       "       [7.454],\n",
       "       [8.704],\n",
       "       [7.333],\n",
       "       [6.842],\n",
       "       [7.203],\n",
       "       [7.52 ],\n",
       "       [8.398],\n",
       "       [7.327],\n",
       "       [7.206],\n",
       "       [5.56 ],\n",
       "       [7.014],\n",
       "       [8.297],\n",
       "       [7.47 ],\n",
       "       [5.92 ],\n",
       "       [5.856],\n",
       "       [6.24 ],\n",
       "       [6.538],\n",
       "       [7.691],\n",
       "       [6.758],\n",
       "       [6.854],\n",
       "       [7.267],\n",
       "       [6.826],\n",
       "       [6.482],\n",
       "       [6.812],\n",
       "       [7.82 ],\n",
       "       [6.968],\n",
       "       [7.645],\n",
       "       [7.923],\n",
       "       [7.088],\n",
       "       [6.453],\n",
       "       [6.23 ],\n",
       "       [6.209],\n",
       "       [6.315],\n",
       "       [6.565],\n",
       "       [6.861],\n",
       "       [7.148],\n",
       "       [6.63 ],\n",
       "       [6.127],\n",
       "       [6.009],\n",
       "       [6.678],\n",
       "       [6.549],\n",
       "       [5.79 ],\n",
       "       [6.345],\n",
       "       [7.041],\n",
       "       [6.871],\n",
       "       [6.59 ],\n",
       "       [6.495],\n",
       "       [6.982],\n",
       "       [7.236],\n",
       "       [6.616],\n",
       "       [7.42 ],\n",
       "       [6.849],\n",
       "       [6.635],\n",
       "       [5.972],\n",
       "       [4.973],\n",
       "       [6.122],\n",
       "       [6.023],\n",
       "       [6.266],\n",
       "       [6.567],\n",
       "       [5.705],\n",
       "       [5.914],\n",
       "       [5.782],\n",
       "       [6.382],\n",
       "       [6.113],\n",
       "       [6.426],\n",
       "       [6.376],\n",
       "       [6.041],\n",
       "       [5.708],\n",
       "       [6.415],\n",
       "       [6.431],\n",
       "       [6.312],\n",
       "       [6.083],\n",
       "       [5.868],\n",
       "       [6.333],\n",
       "       [6.144],\n",
       "       [5.706],\n",
       "       [6.031],\n",
       "       [6.316],\n",
       "       [6.31 ],\n",
       "       [6.037],\n",
       "       [5.869],\n",
       "       [5.895],\n",
       "       [6.059],\n",
       "       [5.985],\n",
       "       [5.968],\n",
       "       [7.241],\n",
       "       [6.54 ],\n",
       "       [6.696],\n",
       "       [6.874],\n",
       "       [6.014],\n",
       "       [5.898],\n",
       "       [6.516],\n",
       "       [6.635],\n",
       "       [6.939],\n",
       "       [6.49 ],\n",
       "       [6.579],\n",
       "       [5.884],\n",
       "       [6.728],\n",
       "       [5.663],\n",
       "       [5.936],\n",
       "       [6.212],\n",
       "       [6.395],\n",
       "       [6.127],\n",
       "       [6.112],\n",
       "       [6.398],\n",
       "       [6.251],\n",
       "       [5.362],\n",
       "       [5.803],\n",
       "       [8.78 ],\n",
       "       [3.561],\n",
       "       [4.963],\n",
       "       [3.863],\n",
       "       [4.97 ],\n",
       "       [6.683],\n",
       "       [7.016],\n",
       "       [6.216],\n",
       "       [5.875],\n",
       "       [4.906],\n",
       "       [4.138],\n",
       "       [7.313],\n",
       "       [6.649],\n",
       "       [6.794],\n",
       "       [6.38 ],\n",
       "       [6.223],\n",
       "       [6.968],\n",
       "       [6.545],\n",
       "       [5.536],\n",
       "       [5.52 ],\n",
       "       [4.368],\n",
       "       [5.277],\n",
       "       [4.652],\n",
       "       [5.   ],\n",
       "       [4.88 ],\n",
       "       [5.39 ],\n",
       "       [5.713],\n",
       "       [6.051],\n",
       "       [5.036],\n",
       "       [6.193],\n",
       "       [5.887],\n",
       "       [6.471],\n",
       "       [6.405],\n",
       "       [5.747],\n",
       "       [5.453],\n",
       "       [5.852],\n",
       "       [5.987],\n",
       "       [6.343],\n",
       "       [6.404],\n",
       "       [5.349],\n",
       "       [5.531],\n",
       "       [5.683],\n",
       "       [4.138],\n",
       "       [5.608],\n",
       "       [5.617],\n",
       "       [6.852],\n",
       "       [5.757],\n",
       "       [6.657],\n",
       "       [4.628],\n",
       "       [5.155],\n",
       "       [4.519],\n",
       "       [6.434],\n",
       "       [6.782],\n",
       "       [5.304],\n",
       "       [5.957],\n",
       "       [6.824],\n",
       "       [6.411],\n",
       "       [6.006],\n",
       "       [5.648],\n",
       "       [6.103],\n",
       "       [5.565],\n",
       "       [5.896],\n",
       "       [5.837],\n",
       "       [6.202],\n",
       "       [6.193],\n",
       "       [6.38 ],\n",
       "       [6.348],\n",
       "       [6.833],\n",
       "       [6.425],\n",
       "       [6.436],\n",
       "       [6.208],\n",
       "       [6.629],\n",
       "       [6.461],\n",
       "       [6.152],\n",
       "       [5.935],\n",
       "       [5.627],\n",
       "       [5.818],\n",
       "       [6.406],\n",
       "       [6.219],\n",
       "       [6.485],\n",
       "       [5.854],\n",
       "       [6.459],\n",
       "       [6.341],\n",
       "       [6.251],\n",
       "       [6.185],\n",
       "       [6.417],\n",
       "       [6.749],\n",
       "       [6.655],\n",
       "       [6.297],\n",
       "       [7.393],\n",
       "       [6.728],\n",
       "       [6.525],\n",
       "       [5.976],\n",
       "       [5.936],\n",
       "       [6.301],\n",
       "       [6.081],\n",
       "       [6.701],\n",
       "       [6.376],\n",
       "       [6.317],\n",
       "       [6.513],\n",
       "       [6.209],\n",
       "       [5.759],\n",
       "       [5.952],\n",
       "       [6.003],\n",
       "       [5.926],\n",
       "       [5.713],\n",
       "       [6.167],\n",
       "       [6.229],\n",
       "       [6.437],\n",
       "       [6.98 ],\n",
       "       [5.427],\n",
       "       [6.162],\n",
       "       [6.484],\n",
       "       [5.304],\n",
       "       [6.185],\n",
       "       [6.229],\n",
       "       [6.242],\n",
       "       [6.75 ],\n",
       "       [7.061],\n",
       "       [5.762],\n",
       "       [5.871],\n",
       "       [6.312],\n",
       "       [6.114],\n",
       "       [5.905],\n",
       "       [5.454],\n",
       "       [5.414],\n",
       "       [5.093],\n",
       "       [5.983],\n",
       "       [5.983],\n",
       "       [5.707],\n",
       "       [5.926],\n",
       "       [5.67 ],\n",
       "       [5.39 ],\n",
       "       [5.794],\n",
       "       [6.019],\n",
       "       [5.569],\n",
       "       [6.027],\n",
       "       [6.593],\n",
       "       [6.12 ],\n",
       "       [6.976],\n",
       "       [6.794],\n",
       "       [6.03 ]])"
      ]
     },
     "execution_count": 215,
     "metadata": {},
     "output_type": "execute_result"
    }
   ],
   "source": [
    "boston[['RM']].values"
   ]
  },
  {
   "cell_type": "code",
   "execution_count": 216,
   "metadata": {},
   "outputs": [
    {
     "data": {
      "image/png": "[encoded data removed]",
      "text/plain": [
       "<Figure size 432x288 with 1 Axes>"
      ]
     },
     "metadata": {
      "needs_background": "light"
     },
     "output_type": "display_data"
    },
    {
     "data": {
      "text/plain": [
       "'\\nResiduals are scattered around the horizontal line, y = 0, with no particular pattern. \\nThis seemingly random distribution is a sign that the model is working. \\nIdeally the residuals should be symmetrically and randomly spaced around the horizontal axis; \\nif the residual plot shows some pattern, linear or nonlinear, \\nthat’s an indication that our model has room for improvement.\\n'"
      ]
     },
     "execution_count": 216,
     "metadata": {},
     "output_type": "execute_result"
    }
   ],
   "source": [
    "#. A residual is the difference between the observed value of the target and the predicted value. The closer the residual is to 0, the better job our model is doing.\n",
    "\n",
    "residuals = Y_test - y_test_predicted\n",
    "\n",
    "# plot the residuals\n",
    "plt.scatter(X_test, residuals)\n",
    "# plot a horizontal line at y = 0\n",
    "plt.hlines(y = 0,\n",
    "xmin = X_test.min(), xmax=X_test.max(),\n",
    "linestyle='--')\n",
    "# set xlim\n",
    "plt.xlim((4, 9))\n",
    "plt.xlabel('RM'); plt.ylabel('residuals')\n",
    "plt.savefig(\"boston residuals plot.png\")\n",
    "plt.show()\n",
    "\n",
    "\"\"\"\n",
    "Residuals are scattered around the horizontal line, y = 0, with no particular pattern. \n",
    "This seemingly random distribution is a sign that the model is working. \n",
    "Ideally the residuals should be symmetrically and randomly spaced around the horizontal axis; \n",
    "if the residual plot shows some pattern, linear or nonlinear, \n",
    "that’s an indication that our model has room for improvement.\n",
    "\"\"\""
   ]
  },
  {
   "cell_type": "code",
   "execution_count": 217,
   "metadata": {},
   "outputs": [
    {
     "name": "stdout",
     "output_type": "stream",
     "text": [
      "[ 0.82101579 -2.18443719 -3.84935016  2.83673577  6.00265905]\n"
     ]
    }
   ],
   "source": [
    "#when each residual is near 0 it suggests a good fit. For example, the first five residuals in our model :\n",
    "print(residuals[:5])"
   ]
  },
  {
   "cell_type": "code",
   "execution_count": 218,
   "metadata": {},
   "outputs": [
    {
     "data": {
      "text/plain": [
       "array([ 8.21015788e-01, -2.18443719e+00, -3.84935016e+00,  2.83673577e+00,\n",
       "        6.00265905e+00, -3.43043501e-01,  2.37399486e+00, -6.30471601e+00,\n",
       "        1.71907608e+00, -1.12379262e+00, -2.84133614e+00,  3.60948850e+00,\n",
       "        1.38051624e+00,  1.00669511e+00, -9.90122519e-01,  1.10212305e+01,\n",
       "       -1.17867659e+01,  6.74800788e+00,  2.53378574e+00,  3.49169501e+00,\n",
       "       -1.49949538e+00, -1.44799132e+00, -1.19295637e+00,  1.29312956e+00,\n",
       "        8.50766013e-01, -1.10155639e+01, -7.50778221e+00, -2.81397269e+00,\n",
       "        1.00436233e+01, -3.53425151e+00, -9.94489470e-01,  1.64661378e+00,\n",
       "        1.25946222e+01, -9.71925141e+00, -1.61391461e+00,  4.93060337e+00,\n",
       "       -8.18074966e+00,  6.29961048e+00,  7.45903522e+00, -2.06008186e+00,\n",
       "       -4.13060927e-01, -2.11845582e+00,  4.67552796e+00, -8.26621426e+00,\n",
       "       -7.16081936e+00, -1.87674569e+01,  1.45575955e+01, -6.53941406e+00,\n",
       "        3.94991233e+00, -5.02225952e+00,  1.31261278e+00, -1.02458822e+00,\n",
       "        4.86621318e+00,  9.05394356e-01, -4.42130730e+00, -1.85377520e+00,\n",
       "       -1.26432758e+01,  8.72229408e-01, -2.61090650e+00,  9.09240968e+00,\n",
       "       -6.97302607e+00,  1.07399486e+00, -9.55486123e+00, -8.63997730e+00,\n",
       "        8.47960447e+00,  8.71261278e+00,  1.73091143e+00, -8.26450690e+00,\n",
       "        1.42833276e+00,  3.73980197e+00,  1.64621997e-01,  1.71003412e+00,\n",
       "        1.04786346e+01, -4.89829318e+00, -8.70076050e-01,  3.61822240e+00,\n",
       "        2.12080135e+01, -2.02839192e+00, -1.21067415e+00,  7.39114939e+00,\n",
       "       -5.84224791e+00, -1.17320034e+00,  4.67808900e+00, -1.21175441e+01,\n",
       "       -1.44145231e+00, -6.14594027e-01, -1.07237926e+01,  7.57752093e-01,\n",
       "       -1.52532535e-01, -4.92998311e+00, -4.55354285e+00,  6.92569080e+00,\n",
       "       -6.45167885e+00,  2.60294949e+00, -1.10046579e+01, -1.37166724e+00,\n",
       "       -2.81294475e+00, -1.03531992e+00,  5.43164894e+00, -1.45430281e-01,\n",
       "       -8.61635947e+00, -8.89914686e+00,  3.67455810e+00,  1.87762430e+00,\n",
       "       -6.87814816e+00, -9.58490672e-01, -4.81494255e+00,  4.68920968e+00,\n",
       "        8.10993557e+00, -3.03629980e-01,  1.08666779e+01, -1.15331533e-01,\n",
       "       -1.08285081e+01,  1.18973246e+00,  4.52584744e+00,  6.23731664e+00,\n",
       "       -1.06860104e+00,  4.60731644e+00,  6.04032475e+00,  1.03693551e+01,\n",
       "        2.21346684e-01, -1.14551921e+01, -1.10557972e-01, -2.41925141e+00,\n",
       "       -1.76034187e-01,  8.43721847e-01,  2.62992395e+00, -6.10848408e-01,\n",
       "        6.52582981e+00,  1.65326897e+00,  1.61515620e+00, -3.27654417e-01,\n",
       "        3.01919225e+00, -2.33902507e+00, -1.53293314e+00,  5.44657332e+00,\n",
       "       -1.74424570e+00, -7.29245121e+00,  4.67065585e+00, -1.79858541e+01,\n",
       "        9.45992453e-01, -3.67314225e+00,  6.92101617e-01, -5.65302489e-01,\n",
       "        1.01948269e+00,  3.19068469e+00,  5.75507916e-05, -1.12090069e+00,\n",
       "        2.91630032e+00,  6.34465162e-01,  3.42578935e+00, -4.11329328e+00])"
      ]
     },
     "execution_count": 218,
     "metadata": {},
     "output_type": "execute_result"
    }
   ],
   "source": [
    "residuals"
   ]
  },
  {
   "cell_type": "code",
   "execution_count": 219,
   "metadata": {},
   "outputs": [
    {
     "name": "stdout",
     "output_type": "stream",
     "text": [
      "-0.23645087766388748\n",
      "36.51721473083863\n",
      "36.51721473083863\n"
     ]
    },
    {
     "data": {
      "text/plain": [
       "'\\nIn general, the smaller the MSE, the better, yet there is no absolute good or bad threshold. \\nWe can define it based on the dependent variable, i.e., MEDV in the test set. \\nY_test ranges from 6.3 to 50 with a variance 92.26. Compared to the total variance, a MSE of 36.52 is not bad.\\n'"
      ]
     },
     "execution_count": 219,
     "metadata": {},
     "output_type": "execute_result"
    }
   ],
   "source": [
    "\"\"\"\n",
    "Those are individual data points, \n",
    "how about the model performance for all data points? \n",
    "We need a way to aggregate the residuals and just report one number as the metric. \n",
    "It is natural to take the average of all residuals:\n",
    "\"\"\"\n",
    "\n",
    "print(residuals.mean())\n",
    "\n",
    "\"\"\"\n",
    "-0.24 is quite close to 0, but there’s a problem: \n",
    "residuals can be positive or negative so taking the average cancels them out. \n",
    "That’s not an accurate metric. To solve this, we take a square of each residual, \n",
    "then take the mean of squares. This is called mean squared error (MSE):\n",
    "\"\"\"\n",
    "\n",
    "print((residuals**2).mean())\n",
    "\n",
    "#or :\n",
    "\n",
    "from sklearn.metrics import mean_squared_error\n",
    "print(mean_squared_error(Y_test, y_test_predicted))\n",
    "\n",
    "\"\"\"\n",
    "In general, the smaller the MSE, the better, yet there is no absolute good or bad threshold. \n",
    "We can define it based on the dependent variable, i.e., MEDV in the test set. \n",
    "Y_test ranges from 6.3 to 50 with a variance 92.26. Compared to the total variance, a MSE of 36.52 is not bad.\n",
    "\"\"\"\n"
   ]
  },
  {
   "cell_type": "code",
   "execution_count": 220,
   "metadata": {},
   "outputs": [
    {
     "data": {
      "text/plain": [
       "'\\nTo make the scale of errors to be the same as the scale of targets, \\nroot mean squared error (RMSE) is often used. It is the square root of MSE.\\n'"
      ]
     },
     "execution_count": 220,
     "metadata": {},
     "output_type": "execute_result"
    }
   ],
   "source": [
    "\"\"\"\n",
    "To make the scale of errors to be the same as the scale of targets, \n",
    "root mean squared error (RMSE) is often used. It is the square root of MSE.\n",
    "\"\"\""
   ]
  },
  {
   "cell_type": "code",
   "execution_count": 221,
   "metadata": {},
   "outputs": [
    {
     "data": {
      "text/plain": [
       "91.65448710180056"
      ]
     },
     "execution_count": 221,
     "metadata": {},
     "output_type": "execute_result"
    }
   ],
   "source": [
    "np.var(Y_test)"
   ]
  },
  {
   "cell_type": "code",
   "execution_count": 222,
   "metadata": {},
   "outputs": [
    {
     "name": "stdout",
     "output_type": "stream",
     "text": [
      "0.6015774471545621\n"
     ]
    }
   ],
   "source": [
    "#Another common metric to evaluate the model performance is called R-squared; one can calculate it via model.score():\n",
    "print(model1.score(X_test, Y_test))"
   ]
  },
  {
   "cell_type": "code",
   "execution_count": 223,
   "metadata": {},
   "outputs": [
    {
     "name": "stdout",
     "output_type": "stream",
     "text": [
      "13931.482039473683\n"
     ]
    }
   ],
   "source": [
    "#The total variation is calculated as the sum of squares of the difference between the response and the mean of response, in the example of testing data:\n",
    "print(((Y_test-Y_test.mean())**2).sum())"
   ]
  },
  {
   "cell_type": "code",
   "execution_count": 224,
   "metadata": {},
   "outputs": [
    {
     "name": "stdout",
     "output_type": "stream",
     "text": [
      "5550.616639087472\n"
     ]
    }
   ],
   "source": [
    "#Whereas the variation that the model fails to capture is computed as the sum of squares of residuals:\n",
    "print((residuals**2).sum())"
   ]
  },
  {
   "cell_type": "code",
   "execution_count": 225,
   "metadata": {},
   "outputs": [
    {
     "name": "stdout",
     "output_type": "stream",
     "text": [
      "0.6015774471545623\n"
     ]
    }
   ],
   "source": [
    "#Then the proportion of total variation from the data is:\n",
    "print(1-5550.6166390874705/13931.482039473683)"
   ]
  },
  {
   "cell_type": "code",
   "execution_count": 226,
   "metadata": {},
   "outputs": [
    {
     "data": {
      "text/plain": [
       "'\\nA perfect model explains all the variation in the data. \\nNote R-squared is between 0 and 100%: 0% indicates that the model explains none of the variability of the response data around its mean \\nwhile 100% indicates that the model explains all of it.\\n\\nEvaluating R-squared values in conjunction with residual plots quantifies model performance.\\n'"
      ]
     },
     "execution_count": 226,
     "metadata": {},
     "output_type": "execute_result"
    }
   ],
   "source": [
    "\"\"\"\n",
    "A perfect model explains all the variation in the data. \n",
    "Note R-squared is between 0 and 100%: 0% indicates that the model explains none of the variability of the response data around its mean \n",
    "while 100% indicates that the model explains all of it.\n",
    "\n",
    "Evaluating R-squared values in conjunction with residual plots quantifies model performance.\n",
    "\"\"\""
   ]
  },
  {
   "cell_type": "code",
   "execution_count": 227,
   "metadata": {},
   "outputs": [],
   "source": [
    "#NOOOOOOOOOOOOOOOW WITH CALIFORNIA DATA "
   ]
  },
  {
   "cell_type": "code",
   "execution_count": 228,
   "metadata": {},
   "outputs": [],
   "source": [
    "model2 = LinearRegression()\n",
    "california_housing_dataset = fetch_california_housing()\n",
    "\n",
    "## build a DataFrame\n",
    "california_housing = pd.DataFrame(california_housing_dataset.data, columns=california_housing_dataset.feature_names)\n",
    "\n",
    "#We then add the target into the DataFrame\n",
    "california_housing['MEDV'] = california_housing_dataset.target\n",
    "\n",
    "X = california_housing[['MedInc']].values\n",
    "\n",
    "Y = california_housing['MEDV'].values\n",
    "\n",
    "X_train, X_test, Y_train, Y_test = train_test_split(X, Y, test_size = 0.3, random_state=101)\n",
    "\n",
    "model2.fit(X_train, Y_train)\n",
    "\n",
    "y_test_predicted = model2.predict(X_test)"
   ]
  },
  {
   "cell_type": "code",
   "execution_count": 229,
   "metadata": {},
   "outputs": [
    {
     "data": {
      "image/png": "[encoded data removed]",
      "text/plain": [
       "<Figure size 432x288 with 1 Axes>"
      ]
     },
     "metadata": {
      "needs_background": "light"
     },
     "output_type": "display_data"
    }
   ],
   "source": [
    "plt.scatter(X_test, Y_test,\n",
    "label='testing data');\n",
    "\n",
    "plt.plot(X_test, y_test_predicted,\n",
    "label='prediction', linewidth=3)\n",
    "\n",
    "plt.xlabel('MedInc'); plt.ylabel('MEDV')\n",
    "\n",
    "plt.legend(loc='upper left')\n",
    "plt.savefig(\"california model.png\")\n",
    "plt.show()"
   ]
  },
  {
   "cell_type": "code",
   "execution_count": 230,
   "metadata": {},
   "outputs": [
    {
     "data": {
      "image/png": "[encoded data removed]",
      "text/plain": [
       "<Figure size 432x288 with 1 Axes>"
      ]
     },
     "metadata": {
      "needs_background": "light"
     },
     "output_type": "display_data"
    }
   ],
   "source": [
    "residuals = Y_test - y_test_predicted\n",
    "\n",
    "# plot the residuals\n",
    "plt.scatter(X_test, residuals)\n",
    "# plot a horizontal line at y = 0\n",
    "plt.hlines(y = 0,xmin = X_test.min(), xmax=X_test.max(), linestyle='--',color='r')\n",
    "\n",
    "plt.xlabel('MedInc'); plt.ylabel('residuals')\n",
    "plt.savefig(\"california residuals plot.png\")\n",
    "plt.show()"
   ]
  },
  {
   "cell_type": "code",
   "execution_count": 231,
   "metadata": {},
   "outputs": [
    {
     "name": "stdout",
     "output_type": "stream",
     "text": [
      "[ 1.26118929 -0.34453578 -0.23295628 -0.16356786  0.32722598]\n"
     ]
    }
   ],
   "source": [
    "#each residual is near 0 it suggests a good fit. For example, the first five residuals in our model\n",
    "\n",
    "print(residuals[:5])"
   ]
  },
  {
   "cell_type": "code",
   "execution_count": 232,
   "metadata": {},
   "outputs": [
    {
     "data": {
      "text/plain": [
       "0.012510409380200807"
      ]
     },
     "execution_count": 232,
     "metadata": {},
     "output_type": "execute_result"
    }
   ],
   "source": [
    "\"\"\"\n",
    "Those are individual data points, \n",
    "how about the model performance for all data points? \n",
    "We need a way to aggregate the residuals and just report one number as the metric. \n",
    "It is natural to take the average of all residuals\n",
    "\"\"\"\n",
    "\n",
    "residuals.mean()"
   ]
  },
  {
   "cell_type": "code",
   "execution_count": 233,
   "metadata": {},
   "outputs": [
    {
     "name": "stdout",
     "output_type": "stream",
     "text": [
      "0.7197365824767558\n",
      "0.7197365824767558\n"
     ]
    }
   ],
   "source": [
    "\"\"\"\n",
    "0.012510409380200807 is quite close to 0, but there’s a problem: \n",
    "residuals can be positive or negative so taking the average cancels them out. \n",
    "That’s not an accurate metric. To solve this, we take a square of each residual, \n",
    "then take the mean of squares. This is called mean squared error (MSE):\n",
    "\"\"\"\n",
    "\n",
    "print((residuals**2).mean())\n",
    "\n",
    "#We can also use the mean_squared_error() method under scikit-learn metrics module to output the same result:\n",
    "\n",
    "from sklearn.metrics import mean_squared_error\n",
    "print(mean_squared_error(Y_test, y_test_predicted))\n"
   ]
  },
  {
   "cell_type": "code",
   "execution_count": 234,
   "metadata": {},
   "outputs": [
    {
     "data": {
      "text/plain": [
       "numpy.ndarray"
      ]
     },
     "execution_count": 234,
     "metadata": {},
     "output_type": "execute_result"
    }
   ],
   "source": [
    "type(Y_test)"
   ]
  },
  {
   "cell_type": "code",
   "execution_count": 235,
   "metadata": {},
   "outputs": [
    {
     "name": "stdout",
     "output_type": "stream",
     "text": [
      "Descriptive Statistics:\n",
      "Count: 6192\n",
      "Minimum: 0.14999\n",
      "Maximum: 5.00001\n",
      "Mean: 2.076627592054263\n",
      "Standard Deviation: 1.163286658870811\n",
      "Variance: 1.3532358507068147\n",
      "25th Percentile: 1.19875\n",
      "50th Percentile (Median): 1.802\n",
      "75th Percentile: 2.65625\n"
     ]
    }
   ],
   "source": [
    "print(\"Descriptive Statistics:\")\n",
    "print(\"Count:\", len(Y_test))\n",
    "print(\"Minimum:\", np.min(Y_test))\n",
    "print(\"Maximum:\", np.max(Y_test))\n",
    "print(\"Mean:\", np.mean(Y_test))\n",
    "print(\"Standard Deviation:\", np.std(Y_test))\n",
    "print(\"Variance:\", np.var(Y_test))\n",
    "print(\"25th Percentile:\", np.percentile(Y_test, 25))\n",
    "print(\"50th Percentile (Median):\", np.percentile(Y_test, 50))\n",
    "print(\"75th Percentile:\", np.percentile(Y_test, 75))"
   ]
  },
  {
   "cell_type": "code",
   "execution_count": 236,
   "metadata": {},
   "outputs": [
    {
     "data": {
      "text/plain": [
       "'\\nIn general, the smaller the MSE, the better, \\nyet there is no absolute good or bad threshold. \\nWe can define it based on the dependent variable, i.e., MEDV in the test set. \\n\\ncalifornia data :\\nY_test ranges from 0.149 to 5.000 with a variance 1.353. Compared to the total variance, a MSE of 0.719 is not bad.\\n\\nboston data :\\nY_test ranges from 6.3 to 50 with a variance 92.26. Compared to the total variance, a MSE of 36.52 is not bad.\\n\\nTo make the scale of errors to be the same as the scale of targets, \\nroot mean squared error (RMSE) is often used. It is the square root of MSE.\\n'"
      ]
     },
     "execution_count": 236,
     "metadata": {},
     "output_type": "execute_result"
    }
   ],
   "source": [
    "\"\"\"\n",
    "In general, the smaller the MSE, the better, \n",
    "yet there is no absolute good or bad threshold. \n",
    "We can define it based on the dependent variable, i.e., MEDV in the test set. \n",
    "\n",
    "california data :\n",
    "Y_test ranges from 0.149 to 5.000 with a variance 1.353. Compared to the total variance, a MSE of 0.719 is not bad.\n",
    "\n",
    "boston data :\n",
    "Y_test ranges from 6.3 to 50 with a variance 92.26. Compared to the total variance, a MSE of 36.52 is not bad.\n",
    "\n",
    "To make the scale of errors to be the same as the scale of targets, \n",
    "root mean squared error (RMSE) is often used. It is the square root of MSE.\n",
    "\"\"\""
   ]
  },
  {
   "cell_type": "code",
   "execution_count": 237,
   "metadata": {},
   "outputs": [
    {
     "data": {
      "text/plain": [
       "0.4681366281414826"
      ]
     },
     "execution_count": 237,
     "metadata": {},
     "output_type": "execute_result"
    }
   ],
   "source": [
    "#Another common metric to evaluate the model performance is called R-squared; one can calculate it via model.score():\n",
    "\n",
    "model2.score(X_test,Y_test)\n",
    "\n",
    "#It is the proportion of total variation explained by the model. Here, around 47% of variability in the testing data is explained by our model."
   ]
  },
  {
   "cell_type": "code",
   "execution_count": 238,
   "metadata": {},
   "outputs": [
    {
     "name": "stdout",
     "output_type": "stream",
     "text": [
      "8379.236387576597\n"
     ]
    }
   ],
   "source": [
    "\"\"\"\n",
    "The total variation is calculated as the sum of squares of the difference \n",
    "between the response and the mean of response, in the example of testing data:\n",
    "\"\"\"\n",
    "\n",
    "print(((Y_test-Y_test.mean())**2).sum())"
   ]
  },
  {
   "cell_type": "code",
   "execution_count": 239,
   "metadata": {},
   "outputs": [
    {
     "name": "stdout",
     "output_type": "stream",
     "text": [
      "4456.608918696072\n"
     ]
    }
   ],
   "source": [
    "#Whereas the variation that the model fails to capture is computed as the sum of squares of residuals:\n",
    "\n",
    "print((residuals**2).sum())"
   ]
  },
  {
   "cell_type": "code",
   "execution_count": 240,
   "metadata": {},
   "outputs": [
    {
     "data": {
      "text/plain": [
       "0.4681366281414826"
      ]
     },
     "execution_count": 240,
     "metadata": {},
     "output_type": "execute_result"
    }
   ],
   "source": [
    "#Then the proportion of total variation from the data is:\n",
    "\n",
    "1 - (((residuals**2).sum()) / (((Y_test-Y_test.mean())**2).sum()))"
   ]
  },
  {
   "cell_type": "code",
   "execution_count": 241,
   "metadata": {},
   "outputs": [
    {
     "data": {
      "text/plain": [
       "\"\\nComparing the two scenarios:\\n\\nCalifornia Data :\\nY_test ranges from 0.149 to 5.000.\\nThe total variance is 1.353.\\nThe MSE is 0.719.\\nThe model's R-squared score (model.score(X_test, Y_test)) is 0.468.\\n\\nBoston Data :\\nY_test ranges from 6.3 to 50.\\nThe total variance is 92.26.\\nThe MSE is 36.52.\\nThe model's R-squared score (model.score(X_test, Y_test)) is 0.602.\\n\\n/////////////////////////////////////////////////////////\\n\\nCalifornia Data :\\nThe MSE of 0.719 indicates that the model's predictions have relatively low errors compared to the overall variability in the target variable.\\nThe R-squared score of 0.468 suggests that the model explains approximately 46.8% of the variance in the target variable. This means that the model captures a moderate amount of the variability in the data.\\n\\nBoston Data :\\nThe MSE of 36.52 indicates that the model's predictions have relatively higher errors compared to the overall variability in the target variable.\\nThe R-squared score of 0.602 suggests that the model explains approximately 60.2% of the variance in the target variable. This means that the model captures a relatively higher amount of the variability in the data compared to the California scenario.\\n\\n***\\nBased on the MSE values and the R-squared scores, the model's performance in the Boston data scenario appears to be relatively better than the model's performance in the California data scenario. \\nThe lower MSE value and higher R-squared score in the Boston data scenario indicate that the model's predictions are closer to the actual values and explain a higher proportion of the variability in the target variable.\\n\""
      ]
     },
     "execution_count": 241,
     "metadata": {},
     "output_type": "execute_result"
    }
   ],
   "source": [
    "\"\"\"\n",
    "Comparing the two scenarios:\n",
    "\n",
    "California Data :\n",
    "Y_test ranges from 0.149 to 5.000.\n",
    "The total variance is 1.353.\n",
    "The MSE is 0.719.\n",
    "The model's R-squared score (model.score(X_test, Y_test)) is 0.468.\n",
    "\n",
    "Boston Data :\n",
    "Y_test ranges from 6.3 to 50.\n",
    "The total variance is 92.26.\n",
    "The MSE is 36.52.\n",
    "The model's R-squared score (model.score(X_test, Y_test)) is 0.602.\n",
    "\n",
    "/////////////////////////////////////////////////////////\n",
    "\n",
    "California Data :\n",
    "The MSE of 0.719 indicates that the model's predictions have relatively low errors compared to the overall variability in the target variable.\n",
    "The R-squared score of 0.468 suggests that the model explains approximately 46.8% of the variance in the target variable. This means that the model captures a moderate amount of the variability in the data.\n",
    "\n",
    "Boston Data :\n",
    "The MSE of 36.52 indicates that the model's predictions have relatively higher errors compared to the overall variability in the target variable.\n",
    "The R-squared score of 0.602 suggests that the model explains approximately 60.2% of the variance in the target variable. This means that the model captures a relatively higher amount of the variability in the data compared to the California scenario.\n",
    "\n",
    "***\n",
    "Based on the MSE values and the R-squared scores, the model's performance in the Boston data scenario appears to be relatively better than the model's performance in the California data scenario. \n",
    "The lower MSE value and higher R-squared score in the Boston data scenario indicate that the model's predictions are closer to the actual values and explain a higher proportion of the variability in the target variable.\n",
    "\"\"\""
   ]
  },
  {
   "cell_type": "code",
   "execution_count": 242,
   "metadata": {},
   "outputs": [
    {
     "name": "stdout",
     "output_type": "stream",
     "text": [
      "الإسلام ديننا\n"
     ]
    }
   ],
   "source": [
    "import pyarabic.araby as araby\n",
    "import pyarabic.number as number\n",
    "\n",
    "text = u'الإسلام ديننا'\n",
    "\n",
    "print(text)"
   ]
  }
 ],
 "metadata": {
  "kernelspec": {
   "display_name": "Python 3.10.0 64-bit",
   "language": "python",
   "name": "python3"
  },
  "language_info": {
   "codemirror_mode": {
    "name": "ipython",
    "version": 3
   },
   "file_extension": ".py",
   "mimetype": "text/x-python",
   "name": "python",
   "nbconvert_exporter": "python",
   "pygments_lexer": "ipython3",
   "version": "3.10.0"
  },
  "orig_nbformat": 4,
  "vscode": {
   "interpreter": {
    "hash": "087359339cf6a1bed038e871895ef85e85f96692ba6d6f882476a5ebb0593988"
   }
  }
 },
 "nbformat": 4,
 "nbformat_minor": 2
}
