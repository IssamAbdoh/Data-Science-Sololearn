{
 "cells": [
  {
   "cell_type": "code",
   "execution_count": null,
   "metadata": {},
   "outputs": [],
   "source": [
    "\"\"\"\n",
    "Clustering is a type of unsupervised learning that allows us to find groups of similar objects, \n",
    "objects that are more related to each other than to the objects in other groups. \n",
    "This is often used when we don’t have access to the ground truth, in other words, the labels are missing.\n",
    "\n",
    "Examples of business use cases include the grouping of \n",
    "documents, \n",
    "music, \n",
    "and movies based on their contents, \n",
    "or finding customer segments based on purchase behavior as a basis for recommendation engines.\n",
    "\"\"\""
   ]
  },
  {
   "cell_type": "code",
   "execution_count": null,
   "metadata": {},
   "outputs": [],
   "source": [
    "\"\"\"\n",
    "There are more than 100 clustering algorithms known, 12 of them have been implemented in scikit-learn, but few gained popularity.\n",
    "\n",
    "In general, there are four types:\n",
    "\n",
    "Centroid based models - each cluster is represented by a single mean vector (e.g., k-means),\n",
    "Connectivity based models - built based on distance connectivity (e.g., hierarchical clustering)\n",
    "Distribution based models - built using statistical distributions (e.g., Gaussian mixtures)\n",
    "Density based models - clusters are defined as dense areas (e.g., DBSCAN)\n",
    "\n",
    "In this module, we will explore the simple and widely-used clustering algorithm, \n",
    "k-means, \n",
    "to reveal subgroups of wines based on the chemical analysis reports.\n",
    "\"\"\""
   ]
  }
 ],
 "metadata": {
  "language_info": {
   "name": "python"
  },
  "orig_nbformat": 4
 },
 "nbformat": 4,
 "nbformat_minor": 2
}
