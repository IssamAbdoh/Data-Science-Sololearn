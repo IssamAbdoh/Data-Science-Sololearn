{
 "cells": [
  {
   "cell_type": "code",
   "execution_count": 63,
   "metadata": {},
   "outputs": [],
   "source": [
    "import numpy as np\n",
    "import pandas as pd\n",
    "\n",
    "from sklearn.model_selection import train_test_split\n",
    "from sklearn.neighbors import KNeighborsClassifier"
   ]
  },
  {
   "cell_type": "code",
   "execution_count": 64,
   "metadata": {},
   "outputs": [],
   "source": [
    "iris = pd.read_csv('../iris.csv')\n",
    "\n",
    "iris.drop('id', axis=1, inplace=True)\n",
    "\n",
    "X = iris[['petal_len', 'petal_wd']]\n",
    "y = iris['species']\n",
    "\n",
    "X_train, X_test, y_train, y_test = train_test_split(X, y, test_size=0.30, random_state=1, stratify=y)\n",
    "\n",
    "## instantiate \n",
    "knn = KNeighborsClassifier(n_neighbors=5)\n",
    "\n",
    "## fit \n",
    "knn.fit(X_train, y_train)\n",
    "\n",
    "y_pred = knn.predict(X_test)"
   ]
  },
  {
   "cell_type": "code",
   "execution_count": 65,
   "metadata": {},
   "outputs": [
    {
     "name": "stdout",
     "output_type": "stream",
     "text": [
      "44\n",
      "45\n"
     ]
    }
   ],
   "source": [
    "\"\"\"\n",
    "In classification the most straightforward metric is accuracy. \n",
    "It calculates the proportion of data points whose predicted labels exactly match the observed labels.\n",
    "\"\"\"\n",
    "\n",
    "print((y_pred==y_test.values).sum())\n",
    "print(y_test.size)"
   ]
  },
  {
   "cell_type": "code",
   "execution_count": 66,
   "metadata": {},
   "outputs": [
    {
     "name": "stdout",
     "output_type": "stream",
     "text": [
      "0.9777777777777777\n",
      "0.9777777777777777\n"
     ]
    }
   ],
   "source": [
    "#The classifier made one mistake. Thus, the accuracy is 44/45\n",
    "print((y_pred==y_test.values).sum()/y_test.size)\n",
    "print(knn.score(X_test, y_test))"
   ]
  },
  {
   "cell_type": "code",
   "execution_count": 67,
   "metadata": {},
   "outputs": [
    {
     "data": {
      "text/plain": [
       "0.9777777777777777"
      ]
     },
     "execution_count": 67,
     "metadata": {},
     "output_type": "execute_result"
    }
   ],
   "source": [
    "#Under the module sklearn.metrics, function accuracy_score(y_true, y_pred) does the same calculation\n",
    "\n",
    "from sklearn.metrics import accuracy_score\n",
    "\n",
    "accuracy_score(y_test.values, y_pred)"
   ]
  },
  {
   "cell_type": "code",
   "execution_count": 68,
   "metadata": {},
   "outputs": [
    {
     "data": {
      "text/plain": [
       "0.9777777777777777"
      ]
     },
     "execution_count": 68,
     "metadata": {},
     "output_type": "execute_result"
    }
   ],
   "source": [
    "accuracy_score(y_test, y_pred)"
   ]
  },
  {
   "cell_type": "code",
   "execution_count": 69,
   "metadata": {},
   "outputs": [
    {
     "name": "stdout",
     "output_type": "stream",
     "text": [
      "[[15  0  0]\n",
      " [ 0 15  0]\n",
      " [ 0  1 14]]\n"
     ]
    }
   ],
   "source": [
    "\"\"\"\n",
    "Classification accuracy alone can be misleading if there is an unequal number of observations in each class or if there are more than two classes in the dataset.\n",
    "Calculating a confusion matrix will provide a better idea of what the classification is getting right and what types of errors it is making.\n",
    "\n",
    "What is a confusion matrix ? \n",
    "It is a summary of the counts of correct and incorrect predictions , broken down by each class.\n",
    "\n",
    "In classifying the iris, we can use confusion_matrix() under module sklearn.metrics\n",
    "\"\"\"\n",
    "\n",
    "from sklearn.metrics import confusion_matrix \n",
    "print(confusion_matrix(y_test, y_pred))"
   ]
  },
  {
   "cell_type": "code",
   "execution_count": 70,
   "metadata": {},
   "outputs": [
    {
     "name": "stderr",
     "output_type": "stream",
     "text": [
      "c:\\Users\\essam\\AppData\\Local\\Programs\\Python\\Python310\\lib\\site-packages\\sklearn\\utils\\deprecation.py:87: FutureWarning: Function plot_confusion_matrix is deprecated; Function `plot_confusion_matrix` is deprecated in 1.0 and will be removed in 1.2. Use one of the class methods: ConfusionMatrixDisplay.from_predictions or ConfusionMatrixDisplay.from_estimator.\n",
      "  warnings.warn(msg, category=FutureWarning)\n"
     ]
    },
    {
     "data": {
      "image/png": "[encoded data removed]",
      "text/plain": [
       "<Figure size 432x288 with 2 Axes>"
      ]
     },
     "metadata": {
      "needs_background": "light"
     },
     "output_type": "display_data"
    }
   ],
   "source": [
    "from sklearn.metrics import plot_confusion_matrix\n",
    "import matplotlib.pyplot as plt\n",
    "\n",
    "#We can visualize the confusion matrix :\n",
    "plot_confusion_matrix(knn, X_test, y_test, cmap=plt.cm.Blues);\n",
    "plt.savefig(\"confusion matrix plot.png\")"
   ]
  },
  {
   "cell_type": "code",
   "execution_count": 71,
   "metadata": {},
   "outputs": [
    {
     "data": {
      "text/plain": [
       "'\\nThe first row corresponds to the actual iris-setosa; [15, 0, 0] indicates that 15 of iris-setosa are correctly predicted, and none are mislabeled; \\nwhile the last row [0, 1, 14] suggests that of 15 actual iris-virginica, 0 were predicted as iris-setosa, 1 was predicted to be iris-versicolor, and the remaining 14 were correctly identified as iris-virginica. \\nThis is consistent with our observation during exploratory data analysis, \\nthat is, there was some overlap between the two species on the scatter plot \\nand it is more difficult to distinguish iris-versicolor from iris-virginica than identifying iris-setosa.\\n'"
      ]
     },
     "execution_count": 71,
     "metadata": {},
     "output_type": "execute_result"
    }
   ],
   "source": [
    "\"\"\"\n",
    "The first row corresponds to the actual iris-setosa; [15, 0, 0] indicates that 15 of iris-setosa are correctly predicted, and none are mislabeled; \n",
    "while the last row [0, 1, 14] suggests that of 15 actual iris-virginica, 0 were predicted as iris-setosa, 1 was predicted to be iris-versicolor, and the remaining 14 were correctly identified as iris-virginica. \n",
    "This is consistent with our observation during exploratory data analysis, \n",
    "that is, there was some overlap between the two species on the scatter plot \n",
    "and it is more difficult to distinguish iris-versicolor from iris-virginica than identifying iris-setosa.\n",
    "\"\"\""
   ]
  },
  {
   "cell_type": "code",
   "execution_count": 72,
   "metadata": {},
   "outputs": [
    {
     "data": {
      "text/plain": [
       "'\\nA confusion matrix is a table that is often used to describe the performance of a classification model (or \"classifier\") on a set of test data for which the true values are known.\\n'"
      ]
     },
     "execution_count": 72,
     "metadata": {},
     "output_type": "execute_result"
    }
   ],
   "source": [
    "\"\"\"\n",
    "A confusion matrix is a table that is often used to describe the performance of a classification model (or \"classifier\") on a set of test data for which the true values are known.\n",
    "\"\"\""
   ]
  },
  {
   "cell_type": "code",
   "execution_count": 73,
   "metadata": {},
   "outputs": [
    {
     "name": "stdout",
     "output_type": "stream",
     "text": [
      "[0.97368421 0.94736842 0.94594595 1.        ]\n",
      "0.967\n"
     ]
    },
    {
     "data": {
      "text/plain": [
       "'\\nWe can not rely on one single train-test split, rather we report that the 5nn model has an accuracy of 95.33% based on a 5-fold cross validation.\\n'"
      ]
     },
     "execution_count": 73,
     "metadata": {},
     "output_type": "execute_result"
    }
   ],
   "source": [
    "\"\"\"\n",
    "Previously we made train-test split before fitting the model so that we can report the model performance on the test data.\n",
    "This is a simple kind of cross validation technique, also known as the holdout method.\n",
    "\n",
    "However, the split is random, as a result, model performance can be sensitive to how the data is split. \n",
    "To overcome this, we introduce k-fold cross validation.\n",
    "\n",
    "In k fold cross validation, the data is divided into k subsets.\n",
    "Then the holdout method is repeated k times, such that \n",
    "each time, one of the k subsets is used as the test set and the other k-1 subsets are combined to train the model.\n",
    "Then the accuracy is averaged over k trials to provide total effectiveness of the model. \n",
    "In this way, all data points are used; and there are more metrics so we don’t rely on one test data for model performance evaluation.\n",
    "\n",
    "The simplest way to use k-fold cross-validation in scikit-learn is to call the cross_val_score function on the model and the dataset:\n",
    "\"\"\"\n",
    "\n",
    "from sklearn.model_selection import cross_val_score\n",
    "\n",
    "# create a new KNN model\n",
    "knn_cv = KNeighborsClassifier(n_neighbors=5)\n",
    "\n",
    "# train model with 5-fold cv\n",
    "cv_scores = cross_val_score(knn_cv, X, y, cv=5)\n",
    "\n",
    "# print each cv score (accuracy) \n",
    "print(cv_scores)\n",
    "\n",
    "# then average them\n",
    "print(cv_scores.mean().round(3))\n",
    "\n",
    "\"\"\"\n",
    "We can not rely on one single train-test split, rather we report that the 5nn model has an accuracy of 95.33% based on a 5-fold cross validation.\n",
    "\"\"\""
   ]
  },
  {
   "cell_type": "code",
   "execution_count": 74,
   "metadata": {},
   "outputs": [
    {
     "data": {
      "text/plain": [
       "'\\nAs a general rule, 5-fold or 10-fold cross validation is preferred; \\nbut there is no formal rule. \\nAs k gets larger, the difference in size between the training set and the resampling subsets gets smaller. \\nAs this difference decreases, the bias of the technique becomes smaller.\\n\\nthe explanation of the above text :\\n\\nThe text mentions that 5-fold or 10-fold cross-validation is commonly used, \\nbut there is no strict rule on the number of folds. \\nThese values are popular choices because they strike a balance between computational efficiency and reliable performance estimation.\\nOne key point mentioned is that as the value of k (the number of neighbors in KNN) increases, \\nthe size difference between the training set and the subsets used for resampling (testing) becomes smaller. \\nIn other words, with a larger k, more neighbors are considered in the decision-making process, resulting in a more nuanced and potentially accurate prediction. \\nThis decrease in the size difference reduces the bias of the cross-validation technique, as the training set becomes more representative of the entire dataset.\\n'"
      ]
     },
     "execution_count": 74,
     "metadata": {},
     "output_type": "execute_result"
    }
   ],
   "source": [
    "\"\"\"\n",
    "As a general rule, 5-fold or 10-fold cross validation is preferred; \n",
    "but there is no formal rule. \n",
    "As k gets larger, the difference in size between the training set and the resampling subsets gets smaller. \n",
    "As this difference decreases, the bias of the technique becomes smaller.\n",
    "\n",
    "the explanation of the above text :\n",
    "\n",
    "The text mentions that 5-fold or 10-fold cross-validation is commonly used, \n",
    "but there is no strict rule on the number of folds. \n",
    "These values are popular choices because they strike a balance between computational efficiency and reliable performance estimation.\n",
    "One key point mentioned is that as the value of k (the number of neighbors in KNN) increases, \n",
    "the size difference between the training set and the subsets used for resampling (testing) becomes smaller. \n",
    "In other words, with a larger k, more neighbors are considered in the decision-making process, resulting in a more nuanced and potentially accurate prediction. \n",
    "This decrease in the size difference reduces the bias of the cross-validation technique, as the training set becomes more representative of the entire dataset.\n",
    "\"\"\""
   ]
  },
  {
   "cell_type": "code",
   "execution_count": 75,
   "metadata": {},
   "outputs": [
    {
     "name": "stdout",
     "output_type": "stream",
     "text": [
      "[ 2  3  4  5  6  7  8  9 10 11 12 13 14 15]\n",
      "{'n_neighbors': 5}\n"
     ]
    }
   ],
   "source": [
    "\"\"\"\n",
    "What is the best k ?\n",
    "Finding the optimal k is called tuning the hyperparameter.\n",
    "A handy tool is grid search. \n",
    "In scikit-learn, we use GridSearchCV, \n",
    "which trains our model multiple times on a range of values specified with the param_grid parameter and computes cross validation score, \n",
    "so that we can check which of our values for the tested hyperparameter performed the best.\n",
    "\"\"\"\n",
    "\n",
    "from sklearn.model_selection import GridSearchCV\n",
    "\n",
    "# create new a knn model\n",
    "knn2 = KNeighborsClassifier()\n",
    "\n",
    "print(np.arange(2, 15+1))\n",
    "\n",
    "# create a dict of all values we want to test for n_neighbors\n",
    "param_grid = {'n_neighbors': np.arange(2, 10)}\n",
    "\n",
    "# use gridsearch to test all values for n_neighbors\n",
    "knn_gscv = GridSearchCV(knn2, param_grid, cv=4)\n",
    "\n",
    "#fit model to data\n",
    "knn_gscv.fit(X, y)\n",
    "\n",
    "print(knn_gscv.best_params_)"
   ]
  },
  {
   "cell_type": "code",
   "execution_count": 76,
   "metadata": {},
   "outputs": [
    {
     "name": "stdout",
     "output_type": "stream",
     "text": [
      "0.967\n"
     ]
    }
   ],
   "source": [
    "\"\"\"\n",
    "We can see that 5 is the best value for n_neighbors. What is the accuracy of the model when k is 5?\n",
    "\"\"\"\n",
    "\n",
    "#What is the accuracy of the model when k is 5?\n",
    "print(knn_gscv.best_score_.round(3))"
   ]
  },
  {
   "cell_type": "code",
   "execution_count": 77,
   "metadata": {},
   "outputs": [
    {
     "name": "stdout",
     "output_type": "stream",
     "text": [
      "0.96675\n",
      "0.96675\n"
     ]
    }
   ],
   "source": [
    "#By using grid search to find the optimal hyperparameter for our model, it improves the model accuracy by over 1%.\n",
    "\n",
    "print(cv_scores.mean().round(5))\n",
    "print(knn_gscv.best_score_.round(5))"
   ]
  },
  {
   "cell_type": "code",
   "execution_count": 81,
   "metadata": {},
   "outputs": [
    {
     "name": "stdout",
     "output_type": "stream",
     "text": [
      "5\n",
      "0.96\n",
      "0.967\n"
     ]
    }
   ],
   "source": [
    "#Now we are ready to build the final model:\n",
    "\n",
    "# create new a knn model\n",
    "knn2 = KNeighborsClassifier()\n",
    "\n",
    "# create a dict of all values we want to test for n_neighbors\n",
    "param_grid = {'n_neighbors': np.arange(2, 15+1)}\n",
    "\n",
    "# use gridsearch to test all values for n_neighbors\n",
    "knn_gscv = GridSearchCV(knn2, param_grid, cv=4)\n",
    "\n",
    "#fit model to data\n",
    "knn_gscv.fit(X, y)\n",
    "\n",
    "print(knn_gscv.best_params_['n_neighbors'])\n",
    "\n",
    "knn_final = KNeighborsClassifier(n_neighbors=knn_gscv.best_params_['n_neighbors'])\n",
    "knn_final.fit(X, y)\n",
    "\n",
    "y_pred = knn_final.predict(X)\n",
    "print(knn_final.score(X, y))\n",
    "print(knn_gscv.best_score_.round(3))"
   ]
  },
  {
   "cell_type": "code",
   "execution_count": null,
   "metadata": {},
   "outputs": [],
   "source": [
    "\"\"\"\n",
    "We can report that our final model, 4nn, has an accuracy of 96% in predicting the species of iris!\n",
    "\n",
    "*** The techniques of k-fold cross validation and tuning parameters with grid search is applicable to both classification and regression problems.\n",
    "\"\"\""
   ]
  }
 ],
 "metadata": {
  "kernelspec": {
   "display_name": "Python 3",
   "language": "python",
   "name": "python3"
  },
  "language_info": {
   "codemirror_mode": {
    "name": "ipython",
    "version": 3
   },
   "file_extension": ".py",
   "mimetype": "text/x-python",
   "name": "python",
   "nbconvert_exporter": "python",
   "pygments_lexer": "ipython3",
   "version": "3.10.0"
  },
  "orig_nbformat": 4
 },
 "nbformat": 4,
 "nbformat_minor": 2
}
