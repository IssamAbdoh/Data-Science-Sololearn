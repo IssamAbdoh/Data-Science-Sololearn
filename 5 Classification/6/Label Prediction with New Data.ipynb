{
 "cells": [
  {
   "cell_type": "code",
   "execution_count": 1,
   "metadata": {},
   "outputs": [],
   "source": [
    "import numpy as np\n",
    "import pandas as pd\n",
    "from sklearn.model_selection import train_test_split\n",
    "from sklearn.neighbors import KNeighborsClassifier\n",
    "from sklearn.model_selection import GridSearchCV"
   ]
  },
  {
   "cell_type": "code",
   "execution_count": 2,
   "metadata": {},
   "outputs": [
    {
     "data": {
      "text/plain": [
       "KNeighborsClassifier()"
      ]
     },
     "execution_count": 2,
     "metadata": {},
     "output_type": "execute_result"
    }
   ],
   "source": [
    "iris = pd.read_csv('../iris.csv')\n",
    "\n",
    "iris.drop('id', axis=1, inplace=True)\n",
    "\n",
    "X = iris[['petal_len', 'petal_wd']]\n",
    "y = iris['species']\n",
    "\n",
    "X_train, X_test, y_train, y_test = train_test_split(X, y, test_size=0.30,  random_state=1, stratify=y)\n",
    "\n",
    "# create new a knn model\n",
    "knn2 = KNeighborsClassifier()\n",
    "\n",
    "# create a dict of all values we want to test for n_neighbors\n",
    "param_grid = {'n_neighbors': np.arange(2, 15)}\n",
    "\n",
    "# use gridsearch to test all values for n_neighbors\n",
    "knn_gscv = GridSearchCV(knn2, param_grid, cv=4)\n",
    "\n",
    "#fit model to data\n",
    "knn_gscv.fit(X, y)\n",
    "\n",
    "knn_final = KNeighborsClassifier(n_neighbors=knn_gscv.best_params_['n_neighbors'])\n",
    "knn_final.fit(X, y)"
   ]
  },
  {
   "cell_type": "code",
   "execution_count": 6,
   "metadata": {},
   "outputs": [
    {
     "name": "stderr",
     "output_type": "stream",
     "text": [
      "c:\\Users\\essam\\AppData\\Local\\Programs\\Python\\Python310\\lib\\site-packages\\sklearn\\base.py:450: UserWarning: X does not have valid feature names, but KNeighborsClassifier was fitted with feature names\n",
      "  warnings.warn(\n"
     ]
    },
    {
     "data": {
      "text/plain": [
       "array(['iris-versicolor'], dtype=object)"
      ]
     },
     "execution_count": 6,
     "metadata": {},
     "output_type": "execute_result"
    }
   ],
   "source": [
    "\"\"\"\n",
    "We take some measurements of an iris and record that the length and width of its sepal are 5.84 cm and 3.06 cm, respectively, \n",
    "and the length and width of its petal are 3.76 cm and 1.20 cm, respectively. \n",
    "How do we make a prediction using the built model?\n",
    "\n",
    "remember that our model depends on ['petal_len', 'petal_wd']\n",
    "\"\"\"\n",
    "\n",
    "#Error :\n",
    "#new_data = np.array([3.76, 1.20])\n",
    "#knn_final.predict(np.array(new_data))\n",
    "\n",
    "\"\"\"\n",
    "Wait, what just happened? \n",
    "When we trained the model, \n",
    "the data is 2D DataFrame, \n",
    "so the model was expecting a 2D array, \n",
    "which could be numpy array or pandas DataFrame. \n",
    "Now new_data is a 1D array, we need to make it 2D as the error message suggested:\n",
    "\"\"\"\n",
    "\n",
    "new_data = np.array([3.76, 1.20]).reshape(1, -1)\n",
    "knn_final.predict(new_data)"
   ]
  },
  {
   "cell_type": "code",
   "execution_count": 7,
   "metadata": {},
   "outputs": [
    {
     "name": "stderr",
     "output_type": "stream",
     "text": [
      "c:\\Users\\essam\\AppData\\Local\\Programs\\Python\\Python310\\lib\\site-packages\\sklearn\\base.py:450: UserWarning: X does not have valid feature names, but KNeighborsClassifier was fitted with feature names\n",
      "  warnings.warn(\n"
     ]
    },
    {
     "data": {
      "text/plain": [
       "array(['iris-versicolor'], dtype=object)"
      ]
     },
     "execution_count": 7,
     "metadata": {},
     "output_type": "execute_result"
    }
   ],
   "source": [
    "\"\"\"\n",
    "Model.predict can also take a 2D list. \n",
    "For example, \n",
    "knn_final.predict([[3.76, 1.2]]) will output the same result as shown in the lesson.\n",
    "\"\"\"\n",
    "knn_final.predict([[3.76, 1.2]])"
   ]
  },
  {
   "cell_type": "code",
   "execution_count": 8,
   "metadata": {},
   "outputs": [
    {
     "name": "stderr",
     "output_type": "stream",
     "text": [
      "c:\\Users\\essam\\AppData\\Local\\Programs\\Python\\Python310\\lib\\site-packages\\sklearn\\base.py:450: UserWarning: X does not have valid feature names, but KNeighborsClassifier was fitted with feature names\n",
      "  warnings.warn(\n"
     ]
    },
    {
     "data": {
      "text/plain": [
       "array(['iris-versicolor', 'iris-virginica', 'iris-setosa'], dtype=object)"
      ]
     },
     "execution_count": 8,
     "metadata": {},
     "output_type": "execute_result"
    }
   ],
   "source": [
    "\"\"\"\n",
    "let's try this :\n",
    "three plants of iris share the same petal width, 2.25cm, but are different in the length of the petal: 5.03 cm, 3.85 cm, and 1.77 cm, respectively.\n",
    "\"\"\"\n",
    "\n",
    "new_data = np.array([[3.76, 1.2], [5.25, 1.2], [1.58, 1.2]])\n",
    "knn_final.predict(new_data)"
   ]
  },
  {
   "cell_type": "code",
   "execution_count": 9,
   "metadata": {},
   "outputs": [
    {
     "name": "stdout",
     "output_type": "stream",
     "text": [
      "[[0.  1.  0. ]\n",
      " [0.  0.4 0.6]\n",
      " [1.  0.  0. ]]\n"
     ]
    },
    {
     "name": "stderr",
     "output_type": "stream",
     "text": [
      "c:\\Users\\essam\\AppData\\Local\\Programs\\Python\\Python310\\lib\\site-packages\\sklearn\\base.py:450: UserWarning: X does not have valid feature names, but KNeighborsClassifier was fitted with feature names\n",
      "  warnings.warn(\n"
     ]
    }
   ],
   "source": [
    "#Recall that in classifications, it is more common to predict the probability of each data point being assigned to each label:\n",
    "print(knn_final.predict_proba(new_data))\n",
    "\n",
    "\"\"\"\n",
    "Each row sums to 1. \n",
    "Take the second iris, our model predicts that there is a probability of 40% that the iris would be versicolor, and 60% virginica. \n",
    "This is consistent with the label prediction: virginica.\n",
    "\n",
    "#For classification algorithms in scikit learn, function predict_proba takes a new data point and outputs a probability for each class as a value between 0 and 1.\n",
    "\"\"\""
   ]
  }
 ],
 "metadata": {
  "kernelspec": {
   "display_name": "Python 3",
   "language": "python",
   "name": "python3"
  },
  "language_info": {
   "codemirror_mode": {
    "name": "ipython",
    "version": 3
   },
   "file_extension": ".py",
   "mimetype": "text/x-python",
   "name": "python",
   "nbconvert_exporter": "python",
   "pygments_lexer": "ipython3",
   "version": "3.10.0"
  },
  "orig_nbformat": 4
 },
 "nbformat": 4,
 "nbformat_minor": 2
}
