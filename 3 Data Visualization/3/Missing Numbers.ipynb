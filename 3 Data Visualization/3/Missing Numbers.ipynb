{
 "cells": [
  {
   "cell_type": "code",
   "execution_count": 110,
   "metadata": {},
   "outputs": [
    {
     "data": {
      "text/plain": [
       "'\\nImputing missing values.\\n\\nIn the real world, you will often need to handle missing values. One way to impute (i.e., fill) the numerical column is to replace the null values with its mean.\\n\\nTask :\\nGiven a list of numbers including some missing values, turn it into a pandas series, impute the missing values with the mean, and finally return the series.\\n\\nInput Format :\\nA list of numbers including one or more string \"nan\" to indicate a missing value.\\n\\nOutput Format :\\nA list of imputed values where all values are rounded to its first decimal place.\\n\\nSample Input :\\n3 4 5 3 4 4 nan\\n\\nSample Output\\n0 3.0\\n1 4.0\\n2 5.0\\n3 3.0\\n4 4.0\\n5 4.0\\n6 3.8\\ndtype: float64\\n\\nExplanation:\\nThe mean of 3, 4, 5, 3, 4, and 4 is 3.8, so we replace the missing value with the mean.\\n'"
      ]
     },
     "execution_count": 110,
     "metadata": {},
     "output_type": "execute_result"
    }
   ],
   "source": [
    "\"\"\"\n",
    "Imputing missing values.\n",
    "\n",
    "In the real world, you will often need to handle missing values. One way to impute (i.e., fill) the numerical column is to replace the null values with its mean.\n",
    "\n",
    "Task :\n",
    "Given a list of numbers including some missing values, turn it into a pandas series, impute the missing values with the mean, and finally return the series.\n",
    "\n",
    "Input Format :\n",
    "A list of numbers including one or more string \"nan\" to indicate a missing value.\n",
    "\n",
    "Output Format :\n",
    "A list of imputed values where all values are rounded to its first decimal place.\n",
    "\n",
    "Sample Input :\n",
    "3 4 5 3 4 4 nan\n",
    "\n",
    "Sample Output\n",
    "0 3.0\n",
    "1 4.0\n",
    "2 5.0\n",
    "3 3.0\n",
    "4 4.0\n",
    "5 4.0\n",
    "6 3.8\n",
    "dtype: float64\n",
    "\n",
    "Explanation:\n",
    "The mean of 3, 4, 5, 3, 4, and 4 is 3.8, so we replace the missing value with the mean.\n",
    "\"\"\""
   ]
  },
  {
   "cell_type": "code",
   "execution_count": 111,
   "metadata": {},
   "outputs": [],
   "source": [
    "import numpy as np\n",
    "\n",
    "#if the user is gonna enter the input then uncomment this line :\n",
    "#lst = [float(x) if x != 'nan' else np.NaN for x in input().split()]\n",
    "#otherwise use these static values :\n",
    "input_string = \"3 4 5 3 4 4 nan\"\n",
    "lst = [float(x) if x != 'nan' else np.NaN for x in input_string.split(\" \")]"
   ]
  },
  {
   "cell_type": "code",
   "execution_count": 112,
   "metadata": {},
   "outputs": [
    {
     "name": "stdout",
     "output_type": "stream",
     "text": [
      "[3.0, 4.0, 5.0, 3.0, 4.0, 4.0, nan]\n"
     ]
    }
   ],
   "source": [
    "#The solution starts from here :\n",
    "import pandas as pd\n",
    "\n",
    "print(lst)"
   ]
  },
  {
   "cell_type": "code",
   "execution_count": 113,
   "metadata": {},
   "outputs": [
    {
     "data": {
      "text/plain": [
       "0    3.0\n",
       "1    4.0\n",
       "2    5.0\n",
       "3    3.0\n",
       "4    4.0\n",
       "5    4.0\n",
       "6    NaN\n",
       "dtype: float64"
      ]
     },
     "execution_count": 113,
     "metadata": {},
     "output_type": "execute_result"
    }
   ],
   "source": [
    "series = pd.Series(np.array(lst))\n",
    "series"
   ]
  },
  {
   "cell_type": "code",
   "execution_count": 114,
   "metadata": {},
   "outputs": [
    {
     "data": {
      "text/plain": [
       "3.8333333333333335"
      ]
     },
     "execution_count": 114,
     "metadata": {},
     "output_type": "execute_result"
    }
   ],
   "source": [
    "series.mean()"
   ]
  },
  {
   "cell_type": "code",
   "execution_count": 115,
   "metadata": {},
   "outputs": [
    {
     "data": {
      "text/plain": [
       "0    3.0\n",
       "1    4.0\n",
       "2    5.0\n",
       "3    3.0\n",
       "4    4.0\n",
       "5    4.0\n",
       "6    NaN\n",
       "dtype: float64"
      ]
     },
     "execution_count": 115,
     "metadata": {},
     "output_type": "execute_result"
    }
   ],
   "source": [
    "series = series.apply(lambda x : series.mean() if x==np.nan else x)#did not work\n",
    "series\n",
    "#The equality comparison x == np.nan will always return False because NaN values are not equal to any other value, \n",
    "# including other NaN values. \n",
    "# Therefore, the lambda function inside the apply method won't be able to identify the NaN values correctly."
   ]
  },
  {
   "cell_type": "code",
   "execution_count": 116,
   "metadata": {},
   "outputs": [
    {
     "data": {
      "text/html": [
       "<div>\n",
       "<style scoped>\n",
       "    .dataframe tbody tr th:only-of-type {\n",
       "        vertical-align: middle;\n",
       "    }\n",
       "\n",
       "    .dataframe tbody tr th {\n",
       "        vertical-align: top;\n",
       "    }\n",
       "\n",
       "    .dataframe thead th {\n",
       "        text-align: right;\n",
       "    }\n",
       "</style>\n",
       "<table border=\"1\" class=\"dataframe\">\n",
       "  <thead>\n",
       "    <tr style=\"text-align: right;\">\n",
       "      <th></th>\n",
       "      <th>0</th>\n",
       "    </tr>\n",
       "  </thead>\n",
       "  <tbody>\n",
       "    <tr>\n",
       "      <th>0</th>\n",
       "      <td>3.0</td>\n",
       "    </tr>\n",
       "    <tr>\n",
       "      <th>1</th>\n",
       "      <td>4.0</td>\n",
       "    </tr>\n",
       "    <tr>\n",
       "      <th>2</th>\n",
       "      <td>5.0</td>\n",
       "    </tr>\n",
       "    <tr>\n",
       "      <th>3</th>\n",
       "      <td>3.0</td>\n",
       "    </tr>\n",
       "    <tr>\n",
       "      <th>4</th>\n",
       "      <td>4.0</td>\n",
       "    </tr>\n",
       "    <tr>\n",
       "      <th>5</th>\n",
       "      <td>4.0</td>\n",
       "    </tr>\n",
       "    <tr>\n",
       "      <th>6</th>\n",
       "      <td>NaN</td>\n",
       "    </tr>\n",
       "  </tbody>\n",
       "</table>\n",
       "</div>"
      ],
      "text/plain": [
       "     0\n",
       "0  3.0\n",
       "1  4.0\n",
       "2  5.0\n",
       "3  3.0\n",
       "4  4.0\n",
       "5  4.0\n",
       "6  NaN"
      ]
     },
     "execution_count": 116,
     "metadata": {},
     "output_type": "execute_result"
    }
   ],
   "source": [
    "df = pd.DataFrame(lst)\n",
    "df"
   ]
  },
  {
   "cell_type": "code",
   "execution_count": 117,
   "metadata": {},
   "outputs": [
    {
     "name": "stdout",
     "output_type": "stream",
     "text": [
      "3.8333333333333335\n"
     ]
    }
   ],
   "source": [
    "print(df[0].mean())"
   ]
  },
  {
   "cell_type": "code",
   "execution_count": 118,
   "metadata": {},
   "outputs": [
    {
     "name": "stdout",
     "output_type": "stream",
     "text": [
      "       0\n",
      "0  False\n",
      "1  False\n",
      "2  False\n",
      "3  False\n",
      "4  False\n",
      "5  False\n",
      "6   True\n",
      "/|\\/|\\/|\\/|\\/|\\/|\\/|\\/|\\/|\\/|\\/|\\/|\\/|\\/|\\/|\\/|\\/|\\/|\\/|\\/|\\/|\\/|\\/|\\/|\\/|\\/|\\/|\\/|\\/|\\/|\\/|\\/|\\/|\\/|\\/|\\/|\\/|\\/|\\/|\\/|\\/|\\/|\\/|\\/|\\/|\\/|\\/|\\/|\\/|\\/|\\\n",
      "0    1\n",
      "dtype: int64\n"
     ]
    }
   ],
   "source": [
    "#checks the null values for a dataFrame #1\n",
    "missing_values = df.isnull()\n",
    "missing_counts = missing_values.sum()\n",
    "print(missing_values)\n",
    "print(\"/|\\\\\"*50)\n",
    "print(missing_counts)"
   ]
  },
  {
   "cell_type": "code",
   "execution_count": 119,
   "metadata": {},
   "outputs": [
    {
     "name": "stdout",
     "output_type": "stream",
     "text": [
      "       0\n",
      "0  False\n",
      "1  False\n",
      "2  False\n",
      "3  False\n",
      "4  False\n",
      "5  False\n",
      "6   True\n",
      "/|\\/|\\/|\\/|\\/|\\/|\\/|\\/|\\/|\\/|\\/|\\/|\\/|\\/|\\/|\\/|\\/|\\/|\\/|\\/|\\/|\\/|\\/|\\/|\\/|\\/|\\/|\\/|\\/|\\/|\\/|\\/|\\/|\\/|\\/|\\/|\\/|\\/|\\/|\\/|\\/|\\/|\\/|\\/|\\/|\\/|\\/|\\/|\\/|\\/|\\\n",
      "0    1\n",
      "dtype: int64\n"
     ]
    }
   ],
   "source": [
    "#checks the null values for a dataFrame #2\n",
    "missing_values = df.isna()\n",
    "missing_counts = missing_values.sum()\n",
    "print(missing_values)\n",
    "print(\"/|\\\\\"*50)\n",
    "print(missing_counts)"
   ]
  },
  {
   "cell_type": "code",
   "execution_count": 120,
   "metadata": {},
   "outputs": [
    {
     "name": "stdout",
     "output_type": "stream",
     "text": [
      "<class 'pandas.core.frame.DataFrame'>\n",
      "RangeIndex: 7 entries, 0 to 6\n",
      "Data columns (total 1 columns):\n",
      " #   Column  Non-Null Count  Dtype  \n",
      "---  ------  --------------  -----  \n",
      " 0   0       6 non-null      float64\n",
      "dtypes: float64(1)\n",
      "memory usage: 184.0 bytes\n"
     ]
    }
   ],
   "source": [
    "#checks the null values for a dataFrame #3\n",
    "df.info()"
   ]
  },
  {
   "cell_type": "code",
   "execution_count": 121,
   "metadata": {},
   "outputs": [
    {
     "data": {
      "text/html": [
       "<div>\n",
       "<style scoped>\n",
       "    .dataframe tbody tr th:only-of-type {\n",
       "        vertical-align: middle;\n",
       "    }\n",
       "\n",
       "    .dataframe tbody tr th {\n",
       "        vertical-align: top;\n",
       "    }\n",
       "\n",
       "    .dataframe thead th {\n",
       "        text-align: right;\n",
       "    }\n",
       "</style>\n",
       "<table border=\"1\" class=\"dataframe\">\n",
       "  <thead>\n",
       "    <tr style=\"text-align: right;\">\n",
       "      <th></th>\n",
       "      <th>0</th>\n",
       "    </tr>\n",
       "  </thead>\n",
       "  <tbody>\n",
       "    <tr>\n",
       "      <th>0</th>\n",
       "      <td>3.0</td>\n",
       "    </tr>\n",
       "    <tr>\n",
       "      <th>1</th>\n",
       "      <td>4.0</td>\n",
       "    </tr>\n",
       "    <tr>\n",
       "      <th>2</th>\n",
       "      <td>5.0</td>\n",
       "    </tr>\n",
       "    <tr>\n",
       "      <th>3</th>\n",
       "      <td>3.0</td>\n",
       "    </tr>\n",
       "    <tr>\n",
       "      <th>4</th>\n",
       "      <td>4.0</td>\n",
       "    </tr>\n",
       "    <tr>\n",
       "      <th>5</th>\n",
       "      <td>4.0</td>\n",
       "    </tr>\n",
       "    <tr>\n",
       "      <th>6</th>\n",
       "      <td>3.8</td>\n",
       "    </tr>\n",
       "  </tbody>\n",
       "</table>\n",
       "</div>"
      ],
      "text/plain": [
       "     0\n",
       "0  3.0\n",
       "1  4.0\n",
       "2  5.0\n",
       "3  3.0\n",
       "4  4.0\n",
       "5  4.0\n",
       "6  3.8"
      ]
     },
     "execution_count": 121,
     "metadata": {},
     "output_type": "execute_result"
    }
   ],
   "source": [
    "#this will solve the issue using Dataframe\n",
    "df[0].fillna(value=round(df[0].mean(),1), inplace=True)\n",
    "df"
   ]
  },
  {
   "cell_type": "code",
   "execution_count": 122,
   "metadata": {},
   "outputs": [
    {
     "data": {
      "text/html": [
       "<div>\n",
       "<style scoped>\n",
       "    .dataframe tbody tr th:only-of-type {\n",
       "        vertical-align: middle;\n",
       "    }\n",
       "\n",
       "    .dataframe tbody tr th {\n",
       "        vertical-align: top;\n",
       "    }\n",
       "\n",
       "    .dataframe thead th {\n",
       "        text-align: right;\n",
       "    }\n",
       "</style>\n",
       "<table border=\"1\" class=\"dataframe\">\n",
       "  <thead>\n",
       "    <tr style=\"text-align: right;\">\n",
       "      <th></th>\n",
       "      <th>0</th>\n",
       "    </tr>\n",
       "  </thead>\n",
       "  <tbody>\n",
       "    <tr>\n",
       "      <th>count</th>\n",
       "      <td>7.000000</td>\n",
       "    </tr>\n",
       "    <tr>\n",
       "      <th>mean</th>\n",
       "      <td>3.828571</td>\n",
       "    </tr>\n",
       "    <tr>\n",
       "      <th>std</th>\n",
       "      <td>0.687300</td>\n",
       "    </tr>\n",
       "    <tr>\n",
       "      <th>min</th>\n",
       "      <td>3.000000</td>\n",
       "    </tr>\n",
       "    <tr>\n",
       "      <th>25%</th>\n",
       "      <td>3.400000</td>\n",
       "    </tr>\n",
       "    <tr>\n",
       "      <th>50%</th>\n",
       "      <td>4.000000</td>\n",
       "    </tr>\n",
       "    <tr>\n",
       "      <th>75%</th>\n",
       "      <td>4.000000</td>\n",
       "    </tr>\n",
       "    <tr>\n",
       "      <th>max</th>\n",
       "      <td>5.000000</td>\n",
       "    </tr>\n",
       "  </tbody>\n",
       "</table>\n",
       "</div>"
      ],
      "text/plain": [
       "              0\n",
       "count  7.000000\n",
       "mean   3.828571\n",
       "std    0.687300\n",
       "min    3.000000\n",
       "25%    3.400000\n",
       "50%    4.000000\n",
       "75%    4.000000\n",
       "max    5.000000"
      ]
     },
     "execution_count": 122,
     "metadata": {},
     "output_type": "execute_result"
    }
   ],
   "source": [
    "df.describe()"
   ]
  },
  {
   "cell_type": "code",
   "execution_count": 123,
   "metadata": {},
   "outputs": [
    {
     "name": "stdout",
     "output_type": "stream",
     "text": [
      "       0\n",
      "0  False\n",
      "1  False\n",
      "2  False\n",
      "3  False\n",
      "4  False\n",
      "5  False\n",
      "6  False\n",
      "/|\\/|\\/|\\/|\\/|\\/|\\/|\\/|\\/|\\/|\\/|\\/|\\/|\\/|\\/|\\/|\\/|\\/|\\/|\\/|\\/|\\/|\\/|\\/|\\/|\\/|\\/|\\/|\\/|\\/|\\/|\\/|\\/|\\/|\\/|\\/|\\/|\\/|\\/|\\/|\\/|\\/|\\/|\\/|\\/|\\/|\\/|\\/|\\/|\\/|\\\n",
      "0    0\n",
      "dtype: int64\n"
     ]
    }
   ],
   "source": [
    "#checks the null values for a dataFrame #1\n",
    "missing_values = df.isnull()\n",
    "missing_counts = missing_values.sum()\n",
    "print(missing_values)\n",
    "print(\"/|\\\\\"*50)\n",
    "print(missing_counts)"
   ]
  },
  {
   "cell_type": "code",
   "execution_count": 124,
   "metadata": {},
   "outputs": [
    {
     "name": "stdout",
     "output_type": "stream",
     "text": [
      "       0\n",
      "0  False\n",
      "1  False\n",
      "2  False\n",
      "3  False\n",
      "4  False\n",
      "5  False\n",
      "6  False\n",
      "/|\\/|\\/|\\/|\\/|\\/|\\/|\\/|\\/|\\/|\\/|\\/|\\/|\\/|\\/|\\/|\\/|\\/|\\/|\\/|\\/|\\/|\\/|\\/|\\/|\\/|\\/|\\/|\\/|\\/|\\/|\\/|\\/|\\/|\\/|\\/|\\/|\\/|\\/|\\/|\\/|\\/|\\/|\\/|\\/|\\/|\\/|\\/|\\/|\\/|\\\n",
      "0    0\n",
      "dtype: int64\n"
     ]
    }
   ],
   "source": [
    "#checks the null values for a dataFrame #2\n",
    "missing_values = df.isna()\n",
    "missing_counts = missing_values.sum()\n",
    "print(missing_values)\n",
    "print(\"/|\\\\\"*50)\n",
    "print(missing_counts)"
   ]
  },
  {
   "cell_type": "code",
   "execution_count": 125,
   "metadata": {},
   "outputs": [
    {
     "name": "stdout",
     "output_type": "stream",
     "text": [
      "<class 'pandas.core.frame.DataFrame'>\n",
      "RangeIndex: 7 entries, 0 to 6\n",
      "Data columns (total 1 columns):\n",
      " #   Column  Non-Null Count  Dtype  \n",
      "---  ------  --------------  -----  \n",
      " 0   0       7 non-null      float64\n",
      "dtypes: float64(1)\n",
      "memory usage: 184.0 bytes\n"
     ]
    }
   ],
   "source": [
    "#checks the null values for a dataFrame #3\n",
    "df.info()"
   ]
  },
  {
   "cell_type": "code",
   "execution_count": 126,
   "metadata": {},
   "outputs": [
    {
     "name": "stdout",
     "output_type": "stream",
     "text": [
      "[ 3.  4.  5.  3.  4.  4. nan]\n"
     ]
    }
   ],
   "source": [
    "print(np.array(lst))"
   ]
  },
  {
   "cell_type": "code",
   "execution_count": 127,
   "metadata": {},
   "outputs": [
    {
     "name": "stdout",
     "output_type": "stream",
     "text": [
      "0    3.0\n",
      "1    4.0\n",
      "2    5.0\n",
      "3    3.0\n",
      "4    4.0\n",
      "5    4.0\n",
      "6    3.8\n",
      "Name: 0, dtype: float64\n"
     ]
    }
   ],
   "source": [
    "print(df[0])"
   ]
  },
  {
   "cell_type": "code",
   "execution_count": 128,
   "metadata": {},
   "outputs": [
    {
     "name": "stdout",
     "output_type": "stream",
     "text": [
      "0    3.8\n",
      "1    3.0\n",
      "2    4.0\n",
      "3    5.0\n",
      "4    3.0\n",
      "5    4.0\n",
      "6    4.0\n",
      "7    3.8\n",
      "dtype: float64\n"
     ]
    }
   ],
   "source": [
    "#Another solution is to skip useing a dataframe , a series is enough\n",
    "input_string = \"nan 3 4 5 3 4 4 nan\"\n",
    "lst = [float(x) if x != 'nan' else np.NaN for x in input_string.split(\" \")]\n",
    "\n",
    "series = pd.Series(lst)\n",
    "series.fillna(value=round(series.mean(),1), inplace=True)\n",
    "\n",
    "print(series)"
   ]
  },
  {
   "cell_type": "code",
   "execution_count": 129,
   "metadata": {},
   "outputs": [
    {
     "name": "stdout",
     "output_type": "stream",
     "text": [
      "0    3.8\n",
      "1    3.0\n",
      "2    4.0\n",
      "3    5.0\n",
      "4    3.8\n",
      "5    3.0\n",
      "6    4.0\n",
      "7    4.0\n",
      "8    3.8\n",
      "dtype: float64\n"
     ]
    }
   ],
   "source": [
    "input_string = \"nan 3 4 5 nan 3 4 4 nan\"\n",
    "lst = [float(x) if x != 'nan' else np.NaN for x in input_string.split(\" \")]\n",
    "\n",
    "#series solution in one line only :\n",
    "series = pd.Series(lst).fillna(value=round(pd.Series(lst).mean(),1), inplace=False)\n",
    "\n",
    "print(series)"
   ]
  }
 ],
 "metadata": {
  "kernelspec": {
   "display_name": "Python 3.10.0 64-bit",
   "language": "python",
   "name": "python3"
  },
  "language_info": {
   "codemirror_mode": {
    "name": "ipython",
    "version": 3
   },
   "file_extension": ".py",
   "mimetype": "text/x-python",
   "name": "python",
   "nbconvert_exporter": "python",
   "pygments_lexer": "ipython3",
   "version": "3.10.0"
  },
  "orig_nbformat": 4,
  "vscode": {
   "interpreter": {
    "hash": "087359339cf6a1bed038e871895ef85e85f96692ba6d6f882476a5ebb0593988"
   }
  }
 },
 "nbformat": 4,
 "nbformat_minor": 2
}
